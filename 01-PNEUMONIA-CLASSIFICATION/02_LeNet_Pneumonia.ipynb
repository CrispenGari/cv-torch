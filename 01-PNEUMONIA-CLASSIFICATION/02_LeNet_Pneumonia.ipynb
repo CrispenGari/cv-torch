{
  "nbformat": 4,
  "nbformat_minor": 0,
  "metadata": {
    "colab": {
      "provenance": []
    },
    "kernelspec": {
      "name": "python3",
      "display_name": "Python 3"
    },
    "language_info": {
      "name": "python"
    },
    "accelerator": "GPU"
  },
  "cells": [
    {
      "cell_type": "markdown",
      "source": [
        "____\n",
        "\n",
        "\n",
        "**project**: `pneumonia prediction`\n",
        "\n",
        "**date**: `2022-04-24`\n",
        "\n",
        "**decription:** `given an image of a chest-x-ray we are going to predict if the person have pneumonia or not if he/she has pneumonia is it a pneumonia bacteria or a pneumonia virus.`\n",
        "\n",
        "**main:** ``computer vision(cv) pytorch``\n",
        "\n",
        "**programmer:** `crispen gari`\n",
        "\n",
        "**architecture:** `LeNet`\n",
        "\n",
        "**language**: `python`\n",
        "\n",
        "____\n"
      ],
      "metadata": {
        "id": "pJThRUPT7x7-"
      }
    },
    {
      "cell_type": "markdown",
      "source": [
        "### Pneumonia\n",
        "\n",
        "There are two types of Pneumonia: \n",
        "\n",
        "1. Bacteria Pneumonia\n",
        "2. Viral Pneumonia\n",
        "\n",
        "\n",
        "<p align=\"center\"><img src=\"https://www.news-medical.net/image.axd?picture=2021%2F8%2Fshutterstock_1455103604.jpg\" width=\"100%\"/></p>\n",
        "\n",
        "\n",
        "Using Artificial Intelligence we want to create a simple model that will be able to detect weather a person has `Pneumonia-Bacteria`, `Pneumonia-virus`  or `Normal` given their `chest-x-ray` image.\n",
        "\n",
        "### Model Achitecture\n",
        "\n",
        "For the model achitecture we are going to use the `LeNet` which was discussed in [this paper](http://yann.lecun.com/exdb/lenet/). The following image shows how the model achitecture looks like.\n",
        "\n",
        "\n",
        "<p align=\"center\"><img src=\"https://camo.githubusercontent.com/3e8be2bfcb8f7dd1006e54d2b294fcb3123022ce28d32dfe8e0fb5a1bda1f480/68747470733a2f2f6769746875622e636f6d2f62656e747265766574742f7079746f7263682d696d6167652d636c617373696669636174696f6e2f626c6f622f6d61737465722f6173736574732f6c656e6574352e706e673f7261773d31\" width=\"100%\"/></p>\n",
        "\n",
        "\n",
        "\n"
      ],
      "metadata": {
        "id": "67rasoUAkDjX"
      }
    },
    {
      "cell_type": "markdown",
      "source": [
        "### Chest X-Ray Images (Pneumonia)\n",
        "\n",
        "In this notebook we are going to train a deep learning model using the backpropagation algorithim with the `LeNet` model achitecture that will detect wether `Pneumonia` infection on images.\n",
        "\n",
        "This will be a simple basic categorical classification on images using python pytorch and torchvision.\n",
        "\n",
        "\n",
        "### Dataset\n",
        "\n",
        "The dataset that i will be using was found on [kaggle](https://www.kaggle.com/paultimothymooney/chest-xray-pneumonia).\n",
        "\n",
        "\n",
        "The images are uploaded on my google drive so that i can easily load them in my google colab notebook.\n",
        "\n",
        "\n",
        "### Folder structure:\n",
        "\n",
        "The images are arranged in the following format in my google drive:\n",
        "\n",
        "```\n",
        "📁 chest-exray\n",
        "    📁  train\n",
        "      📁  PNEUMONIA_BACTERIA\n",
        "          ...\n",
        "      📁  PNEUMONIA_VIRAL\n",
        "          ...\n",
        "      📁  NORMAL\n",
        "          ...\n",
        "    📁  test'\n",
        "      📁  PNEUMONIA_BACTERIA\n",
        "          ...\n",
        "      📁  PNEUMONIA_VIRAL\n",
        "          ...\n",
        "      📁  NORMAL\n",
        "          ...\n",
        "    📁  val\n",
        "      📁  PNEUMONIA_BACTERIA\n",
        "          ...\n",
        "      📁  PNEUMONIA_VIRAL\n",
        "          ...\n",
        "      📁  NORMAL\n",
        "          ...\n",
        "\n",
        "key: ... (images)\n",
        "```\n",
        "\n",
        "\n",
        "### Mounting the drive\n",
        "\n",
        "In the following code cell we are going to mount the google drive which is where our image dataset are located."
      ],
      "metadata": {
        "id": "7JYCfy0iih1C"
      }
    },
    {
      "cell_type": "code",
      "execution_count": null,
      "metadata": {
        "colab": {
          "base_uri": "https://localhost:8080/"
        },
        "id": "fy-YZW3b2Zqr",
        "outputId": "c5ad2dee-0a5d-486e-d6a2-c7610930e2d1"
      },
      "outputs": [
        {
          "output_type": "stream",
          "name": "stdout",
          "text": [
            "Mounted at /content/drive\n"
          ]
        }
      ],
      "source": [
        "from google.colab import drive\n",
        "drive.mount(\"/content/drive\")"
      ]
    },
    {
      "cell_type": "markdown",
      "source": [
        "### Installing Helper Packages\n",
        "\n",
        "In the following code cell we are going to install the package called `helperfns` that i've created and provide us with some usefull helper functions for machine learning."
      ],
      "metadata": {
        "id": "BlrZWpstgecI"
      }
    },
    {
      "cell_type": "code",
      "source": [
        "pip install helperfns -q"
      ],
      "metadata": {
        "id": "lxPKr5GXgo-o",
        "colab": {
          "base_uri": "https://localhost:8080/"
        },
        "outputId": "4f2853e6-f50b-4516-8d04-b36d090f583c"
      },
      "execution_count": null,
      "outputs": [
        {
          "output_type": "stream",
          "name": "stdout",
          "text": [
            "  Preparing metadata (setup.py) ... \u001b[?25l\u001b[?25hdone\n",
            "  Building wheel for sklearn (setup.py) ... \u001b[?25l\u001b[?25hdone\n"
          ]
        }
      ]
    },
    {
      "cell_type": "markdown",
      "source": [
        "### Basic imports\n",
        "\n",
        "In the following code cell we are going to import the basic packages that we will be using in this notebook."
      ],
      "metadata": {
        "id": "dGh8V2wy2wrs"
      }
    },
    {
      "cell_type": "code",
      "source": [
        "import torch\n",
        "import random\n",
        "import os\n",
        "import copy\n",
        "import shutil\n",
        "import time\n",
        "\n",
        "import torch.nn as nn\n",
        "from torch.nn import functional as F\n",
        "from torchvision import datasets, transforms\n",
        "from torch.utils import data\n",
        "\n",
        "import numpy as np\n",
        "import matplotlib.pyplot as plt\n",
        "\n",
        "from helperfns.tables import tabulate_data\n",
        "from helperfns.visualization import plot_complicated_confusion_matrix, plot_simple_confusion_matrix\n",
        "from helperfns.torch import models\n",
        "from helperfns.utils import hms_string\n",
        "\n",
        "torch.__version__"
      ],
      "metadata": {
        "colab": {
          "base_uri": "https://localhost:8080/",
          "height": 35
        },
        "id": "g18z9R-m2wke",
        "outputId": "f153c196-d872-40d9-d4ea-221e512c04b2"
      },
      "execution_count": null,
      "outputs": [
        {
          "output_type": "execute_result",
          "data": {
            "text/plain": [
              "'2.0.0+cu118'"
            ],
            "application/vnd.google.colaboratory.intrinsic+json": {
              "type": "string"
            }
          },
          "metadata": {},
          "execution_count": 3
        }
      ]
    },
    {
      "cell_type": "markdown",
      "source": [
        "### Seeds\n",
        "\n",
        "In the following code cell we are going to set-up the `SEED` for reproducivity in this notebook.\n"
      ],
      "metadata": {
        "id": "ZDDsiNpQlKt3"
      }
    },
    {
      "cell_type": "code",
      "source": [
        "SEED = 42\n",
        "\n",
        "random.seed(SEED)\n",
        "torch.manual_seed(SEED)\n",
        "torch.cuda.manual_seed(SEED)\n",
        "np.random.seed(SEED)\n",
        "torch.backends.cudnn.deterministic = True"
      ],
      "metadata": {
        "id": "3hvVdpMX2whD"
      },
      "execution_count": null,
      "outputs": []
    },
    {
      "cell_type": "markdown",
      "source": [
        "### Device\n",
        "\n",
        "In the following code cell we are going to get the `gpu` as our device if possible for training speed."
      ],
      "metadata": {
        "id": "FUJ20FoPlNhv"
      }
    },
    {
      "cell_type": "code",
      "source": [
        "device = torch.device(\"cuda\" if torch.cuda.is_available() else \"cpu\")\n",
        "device"
      ],
      "metadata": {
        "id": "r1g8tz-R2wOx",
        "colab": {
          "base_uri": "https://localhost:8080/"
        },
        "outputId": "4d500156-70fc-43bc-a896-cce5c72a6cba"
      },
      "execution_count": null,
      "outputs": [
        {
          "output_type": "execute_result",
          "data": {
            "text/plain": [
              "device(type='cuda')"
            ]
          },
          "metadata": {},
          "execution_count": 5
        }
      ]
    },
    {
      "cell_type": "markdown",
      "source": [
        "### Base path to where the images are\n",
        "\n",
        "The base path where our images sets are is declared in the following code cell: "
      ],
      "metadata": {
        "id": "9DR1QHp3m6cQ"
      }
    },
    {
      "cell_type": "code",
      "source": [
        "base_path = \"/content/drive/My Drive/Computer Vision/chest-exray\"\n",
        "os.listdir(base_path)"
      ],
      "metadata": {
        "colab": {
          "base_uri": "https://localhost:8080/"
        },
        "id": "KgrdJH8na3pi",
        "outputId": "c1be85f9-cf54-43b0-e156-ab74446f6c6f"
      },
      "execution_count": null,
      "outputs": [
        {
          "output_type": "execute_result",
          "data": {
            "text/plain": [
              "['test', 'train', 'val']"
            ]
          },
          "metadata": {},
          "execution_count": 6
        }
      ]
    },
    {
      "cell_type": "markdown",
      "source": [
        "### Image transformations\n",
        "\n",
        "We are going to load the images using the `datasets.ImageFolder` from `torchvision` so we need to define some transformation on our images for each set. The following transforms are going to be applied to our images in sequence using the `transforms.Compose`\n",
        "\n",
        "1. train\n",
        "  * Resize (32, 32)\n",
        "  * RandomRotation()\n",
        "  * RandomHorizontalFlip()\n",
        "  * RandomCrop(32)\n",
        "  * ToTensor()\n",
        "  * Grayscale()\n",
        "  * Normalize() with meand and std = `.5`\n",
        "\n",
        "2, 3. test/validation\n",
        "  * Resize (32, 32)\n",
        "  * ToTensor()\n",
        "  * Grayscale()\n",
        "  * Normalize() with meand and std = `.5`\n",
        "\n",
        "\n"
      ],
      "metadata": {
        "id": "BJz4ZP-FlWIB"
      }
    },
    {
      "cell_type": "code",
      "source": [
        "mean = std = .5"
      ],
      "metadata": {
        "id": "9cBcVKLc5AS8"
      },
      "execution_count": null,
      "outputs": []
    },
    {
      "cell_type": "code",
      "source": [
        "image_transforms = {\n",
        "    \"train\": transforms.Compose([\n",
        "       transforms.Resize([32,32]),\n",
        "       transforms.RandomRotation(5),\n",
        "       transforms.RandomHorizontalFlip(.5),\n",
        "       transforms.RandomCrop(32, padding=2),\n",
        "       transforms.ToTensor(),\n",
        "       transforms.Grayscale(\n",
        "         num_output_channels =1\n",
        "       ),\n",
        "       transforms.Normalize(mean=[mean], std=[std], inplace=False)                         \n",
        "    ]),\n",
        "    \"val\": transforms.Compose([\n",
        "        transforms.Resize([32,32]),\n",
        "        transforms.ToTensor(),\n",
        "        transforms.Grayscale(\n",
        "         num_output_channels =1\n",
        "       ),\n",
        "        transforms.Normalize(mean=[mean], std=[std], inplace=False)\n",
        "    ]),\n",
        "    \"test\": transforms.Compose([\n",
        "        transforms.Resize([32,32]),\n",
        "        transforms.ToTensor(),\n",
        "        transforms.Grayscale(\n",
        "         num_output_channels =1\n",
        "       ),\n",
        "        transforms.Normalize(mean=[mean], std=[std], inplace=False)\n",
        "    ])\n",
        "}"
      ],
      "metadata": {
        "id": "H-z0eYfr5Ils"
      },
      "execution_count": null,
      "outputs": []
    },
    {
      "cell_type": "markdown",
      "source": [
        "### Creating a dataset\n",
        "\n",
        "We are then going to create a `image_dataset` wich will contain all the our three sets `train`, `test` and `val`."
      ],
      "metadata": {
        "id": "IuqIwaa5nihy"
      }
    },
    {
      "cell_type": "code",
      "source": [
        "image_datasets = {\n",
        "    x: datasets.ImageFolder(\n",
        "        os.path.join(base_path, x),\n",
        "        transform = image_transforms[x]\n",
        "    ) for x in os.listdir(base_path)\n",
        "}"
      ],
      "metadata": {
        "id": "_MI2gUv56EFS"
      },
      "execution_count": null,
      "outputs": []
    },
    {
      "cell_type": "markdown",
      "source": [
        "### Class names\n",
        "\n",
        "In the following code cell we are going to get our class names that we will store in the `class_names` variable which are:\n",
        "\n",
        "1. NORMAL\n",
        "2. PNEUMONIA_BACTERIA\n",
        "3. PNEUMONIA_VIRAL"
      ],
      "metadata": {
        "id": "yJUP5Uwmn0CY"
      }
    },
    {
      "cell_type": "code",
      "source": [
        "class_names = image_datasets[\"train\"].classes\n",
        "class_names"
      ],
      "metadata": {
        "id": "th2tRO9V6X9U",
        "colab": {
          "base_uri": "https://localhost:8080/"
        },
        "outputId": "322b5c70-18b9-4323-e112-719995e19f46"
      },
      "execution_count": null,
      "outputs": [
        {
          "output_type": "execute_result",
          "data": {
            "text/plain": [
              "['NORMAL', 'PNEUMONIA_BACTERIA', 'PNEUMONIA_VIRAL']"
            ]
          },
          "metadata": {},
          "execution_count": 10
        }
      ]
    },
    {
      "cell_type": "markdown",
      "source": [
        "### Splitted Sets\n",
        "\n",
        "Next we are going to get the data for each set from the giant `image_dataset`."
      ],
      "metadata": {
        "id": "-Lk6EkeXnPJs"
      }
    },
    {
      "cell_type": "code",
      "source": [
        "train_data = image_datasets[\"train\"]\n",
        "val_data = image_datasets[\"val\"]\n",
        "test_data = image_datasets[\"test\"]"
      ],
      "metadata": {
        "id": "vry2qfBr6quh"
      },
      "execution_count": null,
      "outputs": []
    },
    {
      "cell_type": "markdown",
      "source": [
        "### Checking Examples\n",
        "In the following code cell we are ging to count how many example do we have in our dataset."
      ],
      "metadata": {
        "id": "kd_3JU0wm5vd"
      }
    },
    {
      "cell_type": "code",
      "source": [
        "title = \"DATASETS EXAMPLES\"\n",
        "columns = \"SET\", \"TOTAL\"\n",
        "data_rows = [(\"training\", len(train_data)), \n",
        "             (\"testing\", len(test_data)),\n",
        "             ('validation', len(val_data)),\n",
        "             (\"total\", f\"{ len(test_data) + len(train_data) + len(val_data):,}\")\n",
        "        ]\n",
        "\n",
        "tabulate_data(columns, data_rows, title)\n"
      ],
      "metadata": {
        "id": "7xjRJpWh6zJe",
        "colab": {
          "base_uri": "https://localhost:8080/"
        },
        "outputId": "6cd4fe14-dcf7-40fc-8e3a-015b72e0f5f5"
      },
      "execution_count": null,
      "outputs": [
        {
          "output_type": "stream",
          "name": "stdout",
          "text": [
            "+------------+-------+\n",
            "| SET        | TOTAL |\n",
            "+------------+-------+\n",
            "| training   |  5442 |\n",
            "| testing    |  1135 |\n",
            "| validation |  1135 |\n",
            "| total      | 7,712 |\n",
            "+------------+-------+\n"
          ]
        }
      ]
    },
    {
      "cell_type": "markdown",
      "source": [
        "### Class names to index\n",
        "\n",
        "> Note that we can check the `class` to `index` mapping from our train data as a dictionary. This will help us to identify the classname (string) with the class label(integer) for all the classes."
      ],
      "metadata": {
        "id": "LFKW-Q9AoLl-"
      }
    },
    {
      "cell_type": "code",
      "source": [
        "train_data.class_to_idx"
      ],
      "metadata": {
        "colab": {
          "base_uri": "https://localhost:8080/"
        },
        "id": "bujoY516cvk3",
        "outputId": "d50aee06-a416-4ccc-a911-2398187371e3"
      },
      "execution_count": null,
      "outputs": [
        {
          "output_type": "execute_result",
          "data": {
            "text/plain": [
              "{'NORMAL': 0, 'PNEUMONIA_BACTERIA': 1, 'PNEUMONIA_VIRAL': 2}"
            ]
          },
          "metadata": {},
          "execution_count": 13
        }
      ]
    },
    {
      "cell_type": "markdown",
      "source": [
        "### visualizing images\n",
        "\n",
        "In the next code cell we are going to create a simple helper function that will allow us to visualize images called `plot-images`"
      ],
      "metadata": {
        "id": "FMM27js8oU0H"
      }
    },
    {
      "cell_type": "code",
      "source": [
        "def plot_images(images, labels, cols=5):\n",
        "  rows = 4\n",
        "  fig = plt.figure()\n",
        "  fig.set_size_inches(cols * 2, rows * 2)\n",
        "  for i, (image, label) in enumerate(zip(images, labels)):\n",
        "      plt.subplot(rows, cols, i + 1)\n",
        "      plt.axis('off')\n",
        "      plt.imshow(image.view(32, 32), cmap=\"gray\")\n",
        "      plt.title(class_names[label], color ='k', fontsize=16 )"
      ],
      "metadata": {
        "id": "1fiPJk3Y7IBy"
      },
      "execution_count": null,
      "outputs": []
    },
    {
      "cell_type": "markdown",
      "source": [
        "Now we can get the imahes and labels from the train data so that we can visualize them."
      ],
      "metadata": {
        "id": "lOTqAw7eozDb"
      }
    },
    {
      "cell_type": "code",
      "source": [
        "images = [image for image, label in [train_data[i] for i in range(32)] ]\n",
        "labels = [label for image, label in [train_data[i] for i in range(32)] ]\n"
      ],
      "metadata": {
        "id": "N72Jwodb7EDY"
      },
      "execution_count": null,
      "outputs": []
    },
    {
      "cell_type": "markdown",
      "source": [
        "Now we can use our `plot_images` function to visualize the images."
      ],
      "metadata": {
        "id": "QfE63tbNobpy"
      }
    },
    {
      "cell_type": "code",
      "source": [
        "plot_images(images, labels, cols=8)"
      ],
      "metadata": {
        "id": "EkAkUVzN7F50",
        "colab": {
          "base_uri": "https://localhost:8080/",
          "height": 667
        },
        "outputId": "d4c3eea0-6f67-4728-db27-f884159fae4e"
      },
      "execution_count": null,
      "outputs": [
        {
          "output_type": "display_data",
          "data": {
            "text/plain": [
              "<Figure size 1600x800 with 32 Axes>"
            ],
            "image/png": "[encoded data removed]"
          },
          "metadata": {}
        }
      ]
    },
    {
      "cell_type": "markdown",
      "source": [
        "### Creating iterators\n",
        "\n",
        "We are going to create iterators for all our 3 datasets with a batch size of `64`"
      ],
      "metadata": {
        "id": "HA_lb8oVoef4"
      }
    },
    {
      "cell_type": "code",
      "source": [
        "BATCH_SIZE = 64\n",
        "train_iterator = data.DataLoader(train_data,\n",
        "                                 shuffle=True,\n",
        "                                 batch_size=BATCH_SIZE\n",
        "                                 )\n",
        "valid_iterator = data.DataLoader(val_data,\n",
        "                                 shuffle=False,\n",
        "                                 batch_size=BATCH_SIZE\n",
        "                                 )\n",
        "test_iterator = data.DataLoader(test_data,\n",
        "                                 shuffle=False,\n",
        "                                 batch_size=BATCH_SIZE\n",
        "                                 )"
      ],
      "metadata": {
        "id": "jYisECMD7Oca"
      },
      "execution_count": null,
      "outputs": []
    },
    {
      "cell_type": "markdown",
      "source": [
        "### Defining the LeNet Model\n",
        "\n",
        "Our implementation of `LeNet` model will not be the same as the actual one. We are going to use because in the actual implementation they used images which were `32x32` ofwhich we are using images with size `28x28` and also we are not going to use `Gaussian connections`"
      ],
      "metadata": {
        "id": "3U-UQ-Lgorqn"
      }
    },
    {
      "cell_type": "code",
      "source": [
        "class LeNet(nn.Module):\n",
        "  def __init__(self, output_dim):\n",
        "    super(LeNet, self).__init__()\n",
        "    self.maxpool2d = nn.MaxPool2d(2)\n",
        "    self.relu = nn.ReLU()\n",
        "    self.convs = nn.Sequential(\n",
        "        nn.Conv2d(\n",
        "          in_channels=1,\n",
        "          out_channels=6,\n",
        "          kernel_size =5\n",
        "        ),\n",
        "        nn.MaxPool2d(2),\n",
        "        nn.ReLU(),\n",
        "        nn.Conv2d(\n",
        "            in_channels=6,\n",
        "            out_channels=16,\n",
        "            kernel_size = 5\n",
        "        ),\n",
        "        nn.MaxPool2d(2),\n",
        "        nn.ReLU()\n",
        "    )\n",
        "    self.classifier = nn.Sequential(\n",
        "        nn.Linear(16 * 5 * 5, 120),\n",
        "        nn.ReLU(),\n",
        "        nn.Linear(120, 84),\n",
        "        nn.ReLU(),\n",
        "        nn.Linear(84, output_dim)\n",
        "    )\n",
        "  def forward(self, x):\n",
        "    # x = [batch size, 1, 32, 32]\n",
        "    x = self.convs(x)\n",
        "    # x = [batch_size, 16, 5, 5]\n",
        "    x = x.view(x.shape[0], -1) # x = [batch size, 16*5*5]\n",
        "    x = self.classifier(x)\n",
        "    return x"
      ],
      "metadata": {
        "id": "u-UOyGtYqtDd"
      },
      "execution_count": null,
      "outputs": []
    },
    {
      "cell_type": "markdown",
      "source": [
        "### Model Instance\n",
        "\n",
        "I'm the following code cell we are going to create an instance of our model and name it `pneumonia_lenet`."
      ],
      "metadata": {
        "id": "3Khqi1HOvWIO"
      }
    },
    {
      "cell_type": "code",
      "source": [
        "OUTPUT_DIM = len(class_names)\n",
        "pneunomia_lenet = LeNet(OUTPUT_DIM).to(device)\n",
        "pneunomia_lenet"
      ],
      "metadata": {
        "colab": {
          "base_uri": "https://localhost:8080/"
        },
        "id": "UsKN3opwqsKu",
        "outputId": "815a1e9f-61cb-40b9-e5bb-3b0620d6f960"
      },
      "execution_count": null,
      "outputs": [
        {
          "output_type": "execute_result",
          "data": {
            "text/plain": [
              "LeNet(\n",
              "  (maxpool2d): MaxPool2d(kernel_size=2, stride=2, padding=0, dilation=1, ceil_mode=False)\n",
              "  (relu): ReLU()\n",
              "  (convs): Sequential(\n",
              "    (0): Conv2d(1, 6, kernel_size=(5, 5), stride=(1, 1))\n",
              "    (1): MaxPool2d(kernel_size=2, stride=2, padding=0, dilation=1, ceil_mode=False)\n",
              "    (2): ReLU()\n",
              "    (3): Conv2d(6, 16, kernel_size=(5, 5), stride=(1, 1))\n",
              "    (4): MaxPool2d(kernel_size=2, stride=2, padding=0, dilation=1, ceil_mode=False)\n",
              "    (5): ReLU()\n",
              "  )\n",
              "  (classifier): Sequential(\n",
              "    (0): Linear(in_features=400, out_features=120, bias=True)\n",
              "    (1): ReLU()\n",
              "    (2): Linear(in_features=120, out_features=84, bias=True)\n",
              "    (3): ReLU()\n",
              "    (4): Linear(in_features=84, out_features=3, bias=True)\n",
              "  )\n",
              ")"
            ]
          },
          "metadata": {},
          "execution_count": 20
        }
      ]
    },
    {
      "cell_type": "markdown",
      "source": [
        "### Counting the model parameters\n",
        "\n",
        "In the following code cell we are then going to count the model parameters for our `pneunomia_lenet` model."
      ],
      "metadata": {
        "id": "Pzrq1GGo5Spl"
      }
    },
    {
      "cell_type": "code",
      "source": [
        "models.model_params(pneunomia_lenet)"
      ],
      "metadata": {
        "colab": {
          "base_uri": "https://localhost:8080/"
        },
        "id": "Zzj0xDtGwUz3",
        "outputId": "71b3d4b8-6dc1-4858-a2b2-54ab5df5b132"
      },
      "execution_count": null,
      "outputs": [
        {
          "output_type": "stream",
          "name": "stdout",
          "text": [
            "TOTAL MODEL PARAMETERS: \t61,111\n",
            "TOTAL TRAINABLE PARAMETERS: \t61,111\n"
          ]
        }
      ]
    },
    {
      "cell_type": "markdown",
      "source": [
        "Our model has `~61K` total parameters.\n",
        "\n",
        "### Optimizer\n",
        "\n",
        "For the optimizer we are going to use `Adam` with default parameters."
      ],
      "metadata": {
        "id": "wxSKc5Ac44TG"
      }
    },
    {
      "cell_type": "code",
      "source": [
        "optimizer = torch.optim.Adam(pneunomia_lenet .parameters())"
      ],
      "metadata": {
        "id": "RnbtNrTs7inB"
      },
      "execution_count": null,
      "outputs": []
    },
    {
      "cell_type": "markdown",
      "source": [
        "### Criterion\n",
        "For the criterion/loss function we are going to use the `CrossEntropyLoss` since it is a multi-class classification."
      ],
      "metadata": {
        "id": "qMVkvI_G5CLn"
      }
    },
    {
      "cell_type": "code",
      "source": [
        "criterion = nn.CrossEntropyLoss().to(device)"
      ],
      "metadata": {
        "id": "aNqIww877tG7"
      },
      "execution_count": null,
      "outputs": []
    },
    {
      "cell_type": "markdown",
      "source": [
        "### Categorical accuracy function\n",
        "\n",
        "This function will calculate a accuracy for the predicted labels aganist the actual labels."
      ],
      "metadata": {
        "id": "8s8H-XeP4pLT"
      }
    },
    {
      "cell_type": "code",
      "source": [
        "def categorical_accuracy(y_pred, y):\n",
        "  top_pred = y_pred.argmax(1, keepdim=True)\n",
        "  correct = top_pred.eq(y.view_as(top_pred)).sum()\n",
        "  return correct.float()/y.shape[0]"
      ],
      "metadata": {
        "id": "2SjjWjph8CMA"
      },
      "execution_count": null,
      "outputs": []
    },
    {
      "cell_type": "markdown",
      "source": [
        "### Training and Evaluation functions\n",
        "\n",
        "In the following code cell we are going to create a `train` and `eval` function."
      ],
      "metadata": {
        "id": "d6mbz2Hz4lQb"
      }
    },
    {
      "cell_type": "code",
      "source": [
        "def train(model, iterator, optimizer, criterion, device):\n",
        "  epoch_loss, epoch_acc = 0, 0\n",
        "  model.train()\n",
        "  for (x, y) in iterator:\n",
        "    # features and labels to the device\n",
        "    x = x.to(device)\n",
        "    y = y.to(device)\n",
        "    # Zero the gradients\n",
        "    optimizer.zero_grad()\n",
        "    y_pred = model(x)\n",
        "    # Calculate the loss and accuracy\n",
        "    y_pred = y_pred.squeeze()\n",
        "\n",
        "    loss = criterion(y_pred, y)\n",
        "    acc = categorical_accuracy(y_pred, y)\n",
        "    # Backward propagate\n",
        "    loss.backward()\n",
        "    # Update the weights\n",
        "    optimizer.step()\n",
        "    epoch_loss +=loss.item()\n",
        "    epoch_acc += acc.item()\n",
        "  return epoch_loss/len(iterator), epoch_acc/len(iterator)\n",
        "\n",
        "def evaluate(model, iterator, criterion, device):\n",
        "  epoch_loss, epoch_acc = 0, 0\n",
        "  model.eval()\n",
        "  with torch.no_grad():\n",
        "    for (x, y) in iterator:\n",
        "      x = x.to(device)\n",
        "      y = y.to(device)\n",
        "      y_pred = model(x)\n",
        "      y_pred = y_pred.squeeze()\n",
        "      loss = criterion(y_pred, y)\n",
        "      acc = categorical_accuracy(y_pred, y)\n",
        "\n",
        "      epoch_loss += loss.item()\n",
        "      epoch_acc += acc.item()\n",
        "  return epoch_loss/len(iterator), epoch_acc/len(iterator)"
      ],
      "metadata": {
        "id": "UHgZh0EG74U3"
      },
      "execution_count": null,
      "outputs": []
    },
    {
      "cell_type": "markdown",
      "source": [
        "### Training loop \n",
        "\n",
        "We are then going to run our training loop as save the model when the previous validation loss is less that the current validation loss. We are only going to train the model for `20` epochs."
      ],
      "metadata": {
        "id": "1LsXLeXG3jP1"
      }
    },
    {
      "cell_type": "code",
      "source": [
        "EPOCHS = 20\n",
        "best_valid_loss = float('inf')\n",
        "MODEL_NAME = \"pneunomia_lenet.pt\"\n",
        "column_names = [\"Set\", \"Loss\", \"Accuracy\", \"ETA (time)\"]\n",
        "last_saved_epoch = 1\n",
        "\n",
        "training_start = time.time()\n",
        "for epoch in range(EPOCHS):\n",
        "  start = time.time()\n",
        "\n",
        "  train_loss, train_acc = train(pneunomia_lenet, train_iterator, optimizer, criterion, device)\n",
        "  valid_loss, valid_acc = evaluate(pneunomia_lenet, valid_iterator, criterion, device)\n",
        "\n",
        "  save_status = \"(not saving)\"\n",
        "  if valid_loss < best_valid_loss:\n",
        "    best_valid_loss = valid_loss\n",
        "    save_status = \"(saving)\"\n",
        "    last_saved_epoch = epoch + 1\n",
        "    torch.save(pneunomia_lenet.state_dict(), MODEL_NAME)\n",
        "  end = time.time()\n",
        "\n",
        "  data_rows = [\n",
        "      [\"Train\", f'{train_loss:.3f}', f'{train_acc * 100:.2f}%', hms_string(end-start)],\n",
        "      [\"Validation\", f'{valid_loss:.3f}', f'{valid_acc * 100:.2f}%', \"\"]\n",
        "  ]\n",
        "  \n",
        "  title = f\"EPOCH {epoch+1:02}/{EPOCHS}: {save_status}\"\n",
        "  print(title)\n",
        "  tabulate_data(column_names, data_rows, title)\n",
        "  \n",
        "training_end = time.time()"
      ],
      "metadata": {
        "id": "Iu39iQ9t8Tg5",
        "colab": {
          "base_uri": "https://localhost:8080/"
        },
        "outputId": "24bab10d-4bce-4882-99be-a75ce3b240b8"
      },
      "execution_count": null,
      "outputs": [
        {
          "output_type": "stream",
          "name": "stdout",
          "text": [
            "EPOCH 01/20: (saving)\n",
            "+------------+-------+----------+------------+\n",
            "| Set        |  Loss | Accuracy | ETA (time) |\n",
            "+------------+-------+----------+------------+\n",
            "| Train      | 0.880 |   58.43% | 0:25:51.30 |\n",
            "| Validation | 0.800 |   60.31% |            |\n",
            "+------------+-------+----------+------------+\n",
            "EPOCH 02/20: (saving)\n",
            "+------------+-------+----------+------------+\n",
            "| Set        |  Loss | Accuracy | ETA (time) |\n",
            "+------------+-------+----------+------------+\n",
            "| Train      | 0.723 |   67.71% | 0:01:59.90 |\n",
            "| Validation | 0.765 |   64.44% |            |\n",
            "+------------+-------+----------+------------+\n",
            "EPOCH 03/20: (saving)\n",
            "+------------+-------+----------+------------+\n",
            "| Set        |  Loss | Accuracy | ETA (time) |\n",
            "+------------+-------+----------+------------+\n",
            "| Train      | 0.663 |   70.62% | 0:01:59.41 |\n",
            "| Validation | 0.715 |   71.18% |            |\n",
            "+------------+-------+----------+------------+\n",
            "EPOCH 04/20: (saving)\n",
            "+------------+-------+----------+------------+\n",
            "| Set        |  Loss | Accuracy | ETA (time) |\n",
            "+------------+-------+----------+------------+\n",
            "| Train      | 0.611 |   72.82% | 0:01:58.52 |\n",
            "| Validation | 0.681 |   72.78% |            |\n",
            "+------------+-------+----------+------------+\n",
            "EPOCH 05/20: (not saving)\n",
            "+------------+-------+----------+------------+\n",
            "| Set        |  Loss | Accuracy | ETA (time) |\n",
            "+------------+-------+----------+------------+\n",
            "| Train      | 0.608 |   73.78% | 0:01:59.58 |\n",
            "| Validation | 0.766 |   69.48% |            |\n",
            "+------------+-------+----------+------------+\n",
            "EPOCH 06/20: (not saving)\n",
            "+------------+-------+----------+------------+\n",
            "| Set        |  Loss | Accuracy | ETA (time) |\n",
            "+------------+-------+----------+------------+\n",
            "| Train      | 0.577 |   75.18% | 0:02:04.24 |\n",
            "| Validation | 0.685 |   71.99% |            |\n",
            "+------------+-------+----------+------------+\n",
            "EPOCH 07/20: (not saving)\n",
            "+------------+-------+----------+------------+\n",
            "| Set        |  Loss | Accuracy | ETA (time) |\n",
            "+------------+-------+----------+------------+\n",
            "| Train      | 0.560 |   75.91% | 0:02:03.01 |\n",
            "| Validation | 0.694 |   70.70% |            |\n",
            "+------------+-------+----------+------------+\n",
            "EPOCH 08/20: (saving)\n",
            "+------------+-------+----------+------------+\n",
            "| Set        |  Loss | Accuracy | ETA (time) |\n",
            "+------------+-------+----------+------------+\n",
            "| Train      | 0.564 |   75.58% | 0:02:02.95 |\n",
            "| Validation | 0.618 |   74.22% |            |\n",
            "+------------+-------+----------+------------+\n",
            "EPOCH 09/20: (not saving)\n",
            "+------------+-------+----------+------------+\n",
            "| Set        |  Loss | Accuracy | ETA (time) |\n",
            "+------------+-------+----------+------------+\n",
            "| Train      | 0.551 |   76.53% | 0:02:02.77 |\n",
            "| Validation | 0.737 |   67.97% |            |\n",
            "+------------+-------+----------+------------+\n",
            "EPOCH 10/20: (not saving)\n",
            "+------------+-------+----------+------------+\n",
            "| Set        |  Loss | Accuracy | ETA (time) |\n",
            "+------------+-------+----------+------------+\n",
            "| Train      | 0.545 |   76.82% | 0:01:59.58 |\n",
            "| Validation | 0.642 |   73.84% |            |\n",
            "+------------+-------+----------+------------+\n",
            "EPOCH 11/20: (not saving)\n",
            "+------------+-------+----------+------------+\n",
            "| Set        |  Loss | Accuracy | ETA (time) |\n",
            "+------------+-------+----------+------------+\n",
            "| Train      | 0.540 |   75.91% | 0:02:00.45 |\n",
            "| Validation | 0.737 |   69.52% |            |\n",
            "+------------+-------+----------+------------+\n",
            "EPOCH 12/20: (saving)\n",
            "+------------+-------+----------+------------+\n",
            "| Set        |  Loss | Accuracy | ETA (time) |\n",
            "+------------+-------+----------+------------+\n",
            "| Train      | 0.550 |   76.13% | 0:02:00.14 |\n",
            "| Validation | 0.615 |   73.24% |            |\n",
            "+------------+-------+----------+------------+\n",
            "EPOCH 13/20: (saving)\n",
            "+------------+-------+----------+------------+\n",
            "| Set        |  Loss | Accuracy | ETA (time) |\n",
            "+------------+-------+----------+------------+\n",
            "| Train      | 0.528 |   77.63% | 0:01:59.85 |\n",
            "| Validation | 0.614 |   74.13% |            |\n",
            "+------------+-------+----------+------------+\n",
            "EPOCH 14/20: (not saving)\n",
            "+------------+-------+----------+------------+\n",
            "| Set        |  Loss | Accuracy | ETA (time) |\n",
            "+------------+-------+----------+------------+\n",
            "| Train      | 0.541 |   76.85% | 0:02:01.43 |\n",
            "| Validation | 0.631 |   73.24% |            |\n",
            "+------------+-------+----------+------------+\n",
            "EPOCH 15/20: (not saving)\n",
            "+------------+-------+----------+------------+\n",
            "| Set        |  Loss | Accuracy | ETA (time) |\n",
            "+------------+-------+----------+------------+\n",
            "| Train      | 0.526 |   77.56% | 0:02:00.40 |\n",
            "| Validation | 0.696 |   72.18% |            |\n",
            "+------------+-------+----------+------------+\n",
            "EPOCH 16/20: (saving)\n",
            "+------------+-------+----------+------------+\n",
            "| Set        |  Loss | Accuracy | ETA (time) |\n",
            "+------------+-------+----------+------------+\n",
            "| Train      | 0.524 |   77.60% | 0:02:01.32 |\n",
            "| Validation | 0.578 |   77.08% |            |\n",
            "+------------+-------+----------+------------+\n",
            "EPOCH 17/20: (saving)\n",
            "+------------+-------+----------+------------+\n",
            "| Set        |  Loss | Accuracy | ETA (time) |\n",
            "+------------+-------+----------+------------+\n",
            "| Train      | 0.569 |   75.42% | 0:01:59.60 |\n",
            "| Validation | 0.561 |   74.84% |            |\n",
            "+------------+-------+----------+------------+\n",
            "EPOCH 18/20: (not saving)\n",
            "+------------+-------+----------+------------+\n",
            "| Set        |  Loss | Accuracy | ETA (time) |\n",
            "+------------+-------+----------+------------+\n",
            "| Train      | 0.532 |   76.96% | 0:02:00.20 |\n",
            "| Validation | 0.684 |   71.18% |            |\n",
            "+------------+-------+----------+------------+\n",
            "EPOCH 19/20: (not saving)\n",
            "+------------+-------+----------+------------+\n",
            "| Set        |  Loss | Accuracy | ETA (time) |\n",
            "+------------+-------+----------+------------+\n",
            "| Train      | 0.522 |   77.29% | 0:01:58.87 |\n",
            "| Validation | 0.623 |   73.83% |            |\n",
            "+------------+-------+----------+------------+\n",
            "EPOCH 20/20: (saving)\n",
            "+------------+-------+----------+------------+\n",
            "| Set        |  Loss | Accuracy | ETA (time) |\n",
            "+------------+-------+----------+------------+\n",
            "| Train      | 0.505 |   78.49% | 0:01:58.05 |\n",
            "| Validation | 0.551 |   76.51% |            |\n",
            "+------------+-------+----------+------------+\n"
          ]
        }
      ]
    },
    {
      "cell_type": "code",
      "source": [
        "print(\"----- TOTAL TRAINING TIME \")\n",
        "rows = [\n",
        "      [\"TOTAL EPOCHS\", f'{EPOCHS}'],\n",
        "      [\"LAST SAVED EPOCH\", f'{last_saved_epoch}'],\n",
        "      [\"TOTAL TRAINING TIME\", f'{hms_string(training_end-training_start)}']\n",
        "]\n",
        "tabulate_data(['', 'value'], rows, \"TOTAL TRAINING TIME\")"
      ],
      "metadata": {
        "colab": {
          "base_uri": "https://localhost:8080/"
        },
        "id": "eVNMdKP5xzdF",
        "outputId": "4b5d0510-6d00-44d1-cb2b-10d38000a752"
      },
      "execution_count": null,
      "outputs": [
        {
          "output_type": "stream",
          "name": "stdout",
          "text": [
            "----- TOTAL TRAINING TIME \n",
            "+---------------------+------------+\n",
            "|                     |      value |\n",
            "+---------------------+------------+\n",
            "| TOTAL EPOCHS        |         20 |\n",
            "| LAST SAVED EPOCH    |         20 |\n",
            "| TOTAL TRAINING TIME | 1:04:01.61 |\n",
            "+---------------------+------------+\n"
          ]
        }
      ]
    },
    {
      "cell_type": "markdown",
      "source": [
        "Next we are going to evaluate the best model and check for the model `loss` and `accuracy` based on the unseen dataset which is the `test`."
      ],
      "metadata": {
        "id": "P44v-n7QZ9Z6"
      }
    },
    {
      "cell_type": "code",
      "source": [
        "pneunomia_lenet.load_state_dict(torch.load(MODEL_NAME))\n",
        "\n",
        "test_loss, test_acc = evaluate(pneunomia_lenet, test_iterator, criterion, device)\n",
        "title = \"Model Evaluation Summary\"\n",
        "print(title)\n",
        "data_rows = [[\"Test\", f'{test_loss:.3f}', f'{test_acc * 100:.2f}%', \"\"]]\n",
        "\n",
        "tabulate_data(column_names, data_rows, title)\n"
      ],
      "metadata": {
        "id": "kIhAzW1C8XgU",
        "colab": {
          "base_uri": "https://localhost:8080/"
        },
        "outputId": "2f2746a8-ce76-4d8a-f28d-eda15ec06be1"
      },
      "execution_count": null,
      "outputs": [
        {
          "output_type": "stream",
          "name": "stdout",
          "text": [
            "Model Evaluation Summary\n",
            "+------+-------+----------+------------+\n",
            "| Set  |  Loss | Accuracy | ETA (time) |\n",
            "+------+-------+----------+------------+\n",
            "| Test | 0.551 |   76.51% |            |\n",
            "+------+-------+----------+------------+\n"
          ]
        }
      ]
    },
    {
      "cell_type": "markdown",
      "source": [
        "### Downloading the best model\n",
        "\n",
        "We are going to download the saved model as a file in the following code cell."
      ],
      "metadata": {
        "id": "c3ftgRxI3UnU"
      }
    },
    {
      "cell_type": "code",
      "source": [
        "from google.colab import files\n",
        "files.download(MODEL_NAME)"
      ],
      "metadata": {
        "id": "bueu72eL3dia",
        "colab": {
          "base_uri": "https://localhost:8080/",
          "height": 17
        },
        "outputId": "038465ee-6af4-427a-8c05-d804fd4aeb1d"
      },
      "execution_count": null,
      "outputs": [
        {
          "output_type": "display_data",
          "data": {
            "text/plain": [
              "<IPython.core.display.Javascript object>"
            ],
            "application/javascript": [
              "\n",
              "    async function download(id, filename, size) {\n",
              "      if (!google.colab.kernel.accessAllowed) {\n",
              "        return;\n",
              "      }\n",
              "      const div = document.createElement('div');\n",
              "      const label = document.createElement('label');\n",
              "      label.textContent = `Downloading \"${filename}\": `;\n",
              "      div.appendChild(label);\n",
              "      const progress = document.createElement('progress');\n",
              "      progress.max = size;\n",
              "      div.appendChild(progress);\n",
              "      document.body.appendChild(div);\n",
              "\n",
              "      const buffers = [];\n",
              "      let downloaded = 0;\n",
              "\n",
              "      const channel = await google.colab.kernel.comms.open(id);\n",
              "      // Send a message to notify the kernel that we're ready.\n",
              "      channel.send({})\n",
              "\n",
              "      for await (const message of channel.messages) {\n",
              "        // Send a message to notify the kernel that we're ready.\n",
              "        channel.send({})\n",
              "        if (message.buffers) {\n",
              "          for (const buffer of message.buffers) {\n",
              "            buffers.push(buffer);\n",
              "            downloaded += buffer.byteLength;\n",
              "            progress.value = downloaded;\n",
              "          }\n",
              "        }\n",
              "      }\n",
              "      const blob = new Blob(buffers, {type: 'application/binary'});\n",
              "      const a = document.createElement('a');\n",
              "      a.href = window.URL.createObjectURL(blob);\n",
              "      a.download = filename;\n",
              "      div.appendChild(a);\n",
              "      a.click();\n",
              "      div.remove();\n",
              "    }\n",
              "  "
            ]
          },
          "metadata": {}
        },
        {
          "output_type": "display_data",
          "data": {
            "text/plain": [
              "<IPython.core.display.Javascript object>"
            ],
            "application/javascript": [
              "download(\"download_bc421707-36a6-4c55-a333-54044b9e75c6\", \"pneunomia_lenet.pt\", 248039)"
            ]
          },
          "metadata": {}
        }
      ]
    },
    {
      "cell_type": "markdown",
      "source": [
        "### Model inference\n",
        "\n",
        "For model inference we are going to take in an image and make predictions on it.\n",
        "\n",
        "\n",
        "### Image preprocessing\n",
        "\n",
        "For image preprocessing we are going to use `torchvision` transforms so that we tranform our image in the way we want it.\n",
        "\n",
        "1. Given an image resize it to `32x32`\n",
        "2. Convert the image to tensor \n",
        "3. convert the image to grayscale\n",
        "\n",
        "> _Note that during image processing we should use `.5` as our ``mean`` and `std` since we used this during our train transforms._\n",
        "\n",
        "\n"
      ],
      "metadata": {
        "id": "90B71xUIpAox"
      }
    },
    {
      "cell_type": "code",
      "source": [
        "from PIL import Image"
      ],
      "metadata": {
        "id": "dm8ocu7-piPx"
      },
      "execution_count": null,
      "outputs": []
    },
    {
      "cell_type": "code",
      "source": [
        "def preprocess_img(img):\n",
        "  \"\"\"\n",
        "  takes in a pillow image and pre process it\n",
        "  \"\"\"\n",
        "  preproces_1 =  nn.Sequential(\n",
        "   transforms.Resize([32,32]),\n",
        "   transforms.Grayscale(1)\n",
        "  )\n",
        "  preprocess_2 =  nn.Sequential(\n",
        "    transforms.Normalize(mean=[mean], std=[std], inplace=False)\n",
        "  )\n",
        "  img = preprocess_2(transforms.ToTensor()(preproces_1(img)))\n",
        "  return img"
      ],
      "metadata": {
        "id": "iqUetm__u5Mj"
      },
      "execution_count": null,
      "outputs": []
    },
    {
      "cell_type": "code",
      "source": [
        "img_path = os.path.join(base_path, \"train/PNEUMONIA_BACTERIA/person1_bacteria_1.jpeg\")\n",
        "pil_img = Image.open(img_path)\n",
        "img = preprocess_img(pil_img)"
      ],
      "metadata": {
        "id": "Yy9ohq2BpkrB"
      },
      "execution_count": null,
      "outputs": []
    },
    {
      "cell_type": "markdown",
      "source": [
        "### Predict method\n",
        "\n",
        "The predict method will take in the following args: \n",
        "\n",
        "1. model\n",
        "2. image (processed image)\n",
        "3. device (cuda or cpu)"
      ],
      "metadata": {
        "id": "g14H7c5A2M0m"
      }
    },
    {
      "cell_type": "code",
      "source": [
        "def predict(model, image, device):\n",
        "  image = torch.unsqueeze(image, 0).to(device)\n",
        "  preds = model(image)\n",
        "  preds = F.softmax(preds, dim=1).detach().cpu().numpy().squeeze()\n",
        "\n",
        "  predicted_label = np.argmax(preds)\n",
        "\n",
        "  all_preds = [\n",
        "      {\n",
        "      'label': i,\n",
        "      'class_label': class_names[i],\n",
        "      'probability': np.round(preds[i], 2),\n",
        "      } for i, _ in enumerate(preds)\n",
        "  ]\n",
        "\n",
        "  res ={\n",
        "      'label': predicted_label,\n",
        "      'class_label': class_names[predicted_label],\n",
        "      'probability': np.round(preds[predicted_label], 2),\n",
        "      'predictions': all_preds\n",
        "  }\n",
        "  return res\n",
        "\n",
        "predict(pneunomia_lenet, img, device)"
      ],
      "metadata": {
        "id": "72N0PHPJszS1",
        "colab": {
          "base_uri": "https://localhost:8080/"
        },
        "outputId": "8490d063-d7f0-4abb-d5f8-0c17fb72614b"
      },
      "execution_count": null,
      "outputs": [
        {
          "output_type": "execute_result",
          "data": {
            "text/plain": [
              "{'label': 1,\n",
              " 'class_label': 'PNEUMONIA_BACTERIA',\n",
              " 'probability': 0.5,\n",
              " 'predictions': [{'label': 0, 'class_label': 'NORMAL', 'probability': 0.0},\n",
              "  {'label': 1, 'class_label': 'PNEUMONIA_BACTERIA', 'probability': 0.5},\n",
              "  {'label': 2, 'class_label': 'PNEUMONIA_VIRAL', 'probability': 0.5}]}"
            ]
          },
          "metadata": {},
          "execution_count": 33
        }
      ]
    },
    {
      "cell_type": "markdown",
      "source": [
        "### Model Evaluation metrics\n",
        "\n",
        "In this section we are going to evaluate the best model and visualize the matrics. We are going to use the following evaluation methods on this classification task.\n",
        "\n",
        "1. confusion matrix\n",
        "2. classification report.\n",
        "\n",
        "\n",
        "First of all we need to get the actual values and predicted values from the `test_iteraror` so that we will be able to use all the examples in the `test` dataset to evaluate our model. We are going to define a function called `get_predictions` this function will take in the `model`, `iterator` and `device` as parameter and return the following lists of values:\n",
        "\n",
        "1. images - the image to be predicted\n",
        "2. labels - the actual image label\n",
        "3. probs - the list of probabilities for the image to belong to a certain class.\n",
        "\n"
      ],
      "metadata": {
        "id": "3dSuOaCJ9gWm"
      }
    },
    {
      "cell_type": "code",
      "source": [
        "def get_predictions(model, iterator, device):\n",
        "  model.eval()\n",
        "  images = []\n",
        "  labels = []\n",
        "  probs = []\n",
        "  with torch.no_grad():\n",
        "    for (x, y) in iterator:\n",
        "      x = x.to(device)\n",
        "      y_pred = model(x)\n",
        "      y_prob = F.softmax(y_pred, dim = -1)\n",
        "      top_pred = y_prob.argmax(1, keepdim = True)\n",
        "      images.append(x.cpu())\n",
        "      labels.append(y.cpu())\n",
        "      probs.append(y_prob.cpu())\n",
        "  images = torch.cat(images, dim = 0)\n",
        "  labels = torch.cat(labels, dim = 0)\n",
        "  probs = torch.cat(probs, dim = 0)\n",
        "  return images, labels, probs"
      ],
      "metadata": {
        "id": "0yn5FzPoQ6K2"
      },
      "execution_count": null,
      "outputs": []
    },
    {
      "cell_type": "markdown",
      "source": [
        "Let's go ahead and get the `images`, `labels` and `probabilities` from the `test_iterator` using our `get_predictions` function"
      ],
      "metadata": {
        "id": "faFusYN-TIpA"
      }
    },
    {
      "cell_type": "code",
      "source": [
        "test_images, test_labels, probs = get_predictions(pneunomia_lenet, test_iterator, device)"
      ],
      "metadata": {
        "id": "vFMp6ksURw8E"
      },
      "execution_count": null,
      "outputs": []
    },
    {
      "cell_type": "markdown",
      "source": [
        "The `probs` are not the predicted labels, it is a torch tensor of size `3` that looks as follow:\n",
        "\n",
        "```\n",
        "tensor([0.8013, 0.1063, 0.0924])\n",
        "```\n",
        "So these are just probabilities that are telling us that, the predicted image has `~80%` chance of belonging to class `0`, `~11%` chance of belonging to class `1` and `9%` chance of belonging to class 2. Basically the model is telling us that, I think the image you gave me belongs to class `0`. \n",
        "\n",
        "\n",
        "To get the predicted values from the images in the `test_set` we need to use the `torch.argmax()` function which returns us the index with the highest number in a `torch tesnor`. We are going to calculate the `argmax` of our probability in the `first` dimenion to get all the predicted values labels as follows:"
      ],
      "metadata": {
        "id": "QqMqzNKkT8kA"
      }
    },
    {
      "cell_type": "code",
      "source": [
        "pred_labels = torch.argmax(probs, 1)\n",
        "pred_labels"
      ],
      "metadata": {
        "id": "RoR1ZhB_R3bj",
        "colab": {
          "base_uri": "https://localhost:8080/"
        },
        "outputId": "93906414-846a-4d3b-d001-f10c29ab22bd"
      },
      "execution_count": null,
      "outputs": [
        {
          "output_type": "execute_result",
          "data": {
            "text/plain": [
              "tensor([0, 0, 0,  ..., 2, 1, 2])"
            ]
          },
          "metadata": {},
          "execution_count": 36
        }
      ]
    },
    {
      "cell_type": "markdown",
      "source": [
        "### Ploting predictions\n",
        "\n",
        "Now that we have our `predicted` labels and `real` labels from the `test` dataset. We can use them to visualize how good the model is performing during inference. Let's define a function called `plot_predictions_images` which plots the predicted images together with their labels."
      ],
      "metadata": {
        "id": "WffEHTpkAkco"
      }
    },
    {
      "cell_type": "code",
      "source": [
        "images = test_images\n",
        "labels = test_labels.numpy()\n",
        "preds = pred_labels.numpy()"
      ],
      "metadata": {
        "id": "YnqXSW2yWYeH"
      },
      "execution_count": null,
      "outputs": []
    },
    {
      "cell_type": "code",
      "source": [
        "def plot_predictions_images(images_and_classes, \n",
        "                            labels_true, labels_pred, \n",
        "                            cols=5):\n",
        "    rows = 3\n",
        "    fig = plt.figure()\n",
        "    fig.set_size_inches(cols * 2, rows * 2)\n",
        "    for i, (image, label_true, label_pred) in enumerate(zip(images_and_classes, labels_true.astype(\"int32\"), labels_pred)):\n",
        "        plt.subplot(rows, cols, i + 1)\n",
        "        plt.axis('off')\n",
        "        plt.imshow(image.view(32, 32), cmap=\"gray\")\n",
        "        plt.title(class_names[label_pred], color ='g' if label_true == label_pred else 'r', fontsize=10 )\n",
        "\n",
        "plot_predictions_images(images[:24], labels[:24], preds[:24], cols=8)\n"
      ],
      "metadata": {
        "id": "3bs9zNdn_q0w",
        "colab": {
          "base_uri": "https://localhost:8080/",
          "height": 502
        },
        "outputId": "90adbc41-d10f-4366-9377-68aee8c3f865"
      },
      "execution_count": null,
      "outputs": [
        {
          "output_type": "display_data",
          "data": {
            "text/plain": [
              "<Figure size 1600x600 with 24 Axes>"
            ],
            "image/png": "[encoded data removed]"
          },
          "metadata": {}
        }
      ]
    },
    {
      "cell_type": "markdown",
      "source": [
        "From the above visualization the images that has a `red` title are mis-predicted by the model."
      ],
      "metadata": {
        "id": "1qgs2rgrXBYN"
      }
    },
    {
      "cell_type": "markdown",
      "source": [
        "#### The confusion matrix\n",
        "\n",
        "Let's create a confusion matrix as a way of visualizing how good our model is when it comes to predicting images in the `test` dataset. We are going to define a function called `plot_confusion_matrix` in the following code cell, this function will take in the real-labels, predicted labels together with the classes (textual labels e.g, normal)"
      ],
      "metadata": {
        "id": "pBRtvQG8AprP"
      }
    },
    {
      "cell_type": "code",
      "source": [
        "from sklearn.metrics import confusion_matrix\n",
        "from sklearn.metrics import ConfusionMatrixDisplay\n",
        "import itertools"
      ],
      "metadata": {
        "id": "0tSTjSrkASb_"
      },
      "execution_count": null,
      "outputs": []
    },
    {
      "cell_type": "code",
      "source": [
        "def plot_confusion_matrix(labels: list= [], pred_labels:list =[], classes:list=[]):\n",
        "  fig = plt.figure(figsize = (10, 10))\n",
        "  ax = fig.add_subplot(1, 1, 1)\n",
        "  cm = confusion_matrix(labels, pred_labels)\n",
        "\n",
        "  if len(classes) == 0:\n",
        "    classes = labels.numpy()\n",
        "\n",
        "  cm = ConfusionMatrixDisplay(cm, display_labels= classes)\n",
        "  cm.plot(values_format = 'd', cmap = 'Blues', ax = ax)\n",
        "  plt.xticks(rotation = 0, color=\"black\", fontsize=10)\n",
        "  plt.yticks(rotation = 0, color=\"black\", fontsize=10)"
      ],
      "metadata": {
        "id": "HgZaOdOHrE8n"
      },
      "execution_count": null,
      "outputs": []
    },
    {
      "cell_type": "code",
      "source": [
        "plot_confusion_matrix(labels, preds, class_names)"
      ],
      "metadata": {
        "id": "hzxl6nBbrTJV",
        "colab": {
          "base_uri": "https://localhost:8080/",
          "height": 807
        },
        "outputId": "a9623057-d2c4-41fb-c8b7-ba369dbe12a9"
      },
      "execution_count": null,
      "outputs": [
        {
          "output_type": "display_data",
          "data": {
            "text/plain": [
              "<Figure size 1000x1000 with 2 Axes>"
            ],
            "image/png": "[encoded data removed]"
          },
          "metadata": {}
        }
      ]
    },
    {
      "cell_type": "markdown",
      "source": [
        "### Classification report\n",
        "\n",
        "In the following code cell we are going to print the classification report as a way of measuring how good our model was in predicting (normal, pneumonia-virus and pneumonia-bacteria)."
      ],
      "metadata": {
        "id": "_uNH2VlDBABW"
      }
    },
    {
      "cell_type": "code",
      "source": [
        "from sklearn.metrics import classification_report"
      ],
      "metadata": {
        "id": "QZdciAJsAvY2"
      },
      "execution_count": null,
      "outputs": []
    },
    {
      "cell_type": "code",
      "source": [
        "cr = classification_report(labels, preds, output_dict=False, labels=labels, target_names =[class_names[i] for i in labels])\n",
        "print(cr)"
      ],
      "metadata": {
        "id": "bar0vQuVBCR1",
        "colab": {
          "base_uri": "https://localhost:8080/"
        },
        "outputId": "d2664eeb-3bf9-4764-ed0d-d57e93eaac70"
      },
      "execution_count": null,
      "outputs": [
        {
          "output_type": "stream",
          "name": "stdout",
          "text": [
            "                    precision    recall  f1-score   support\n",
            "\n",
            "            NORMAL       0.88      0.82      0.85       337\n",
            "            NORMAL       0.88      0.82      0.85       337\n",
            "            NORMAL       0.88      0.82      0.85       337\n",
            "            NORMAL       0.88      0.82      0.85       337\n",
            "            NORMAL       0.88      0.82      0.85       337\n",
            "            NORMAL       0.88      0.82      0.85       337\n",
            "            NORMAL       0.88      0.82      0.85       337\n",
            "            NORMAL       0.88      0.82      0.85       337\n",
            "            NORMAL       0.88      0.82      0.85       337\n",
            "            NORMAL       0.88      0.82      0.85       337\n",
            "            NORMAL       0.88      0.82      0.85       337\n",
            "            NORMAL       0.88      0.82      0.85       337\n",
            "            NORMAL       0.88      0.82      0.85       337\n",
            "            NORMAL       0.88      0.82      0.85       337\n",
            "            NORMAL       0.88      0.82      0.85       337\n",
            "            NORMAL       0.88      0.82      0.85       337\n",
            "            NORMAL       0.88      0.82      0.85       337\n",
            "            NORMAL       0.88      0.82      0.85       337\n",
            "            NORMAL       0.88      0.82      0.85       337\n",
            "            NORMAL       0.88      0.82      0.85       337\n",
            "            NORMAL       0.88      0.82      0.85       337\n",
            "            NORMAL       0.88      0.82      0.85       337\n",
            "            NORMAL       0.88      0.82      0.85       337\n",
            "            NORMAL       0.88      0.82      0.85       337\n",
            "            NORMAL       0.88      0.82      0.85       337\n",
            "            NORMAL       0.88      0.82      0.85       337\n",
            "            NORMAL       0.88      0.82      0.85       337\n",
            "            NORMAL       0.88      0.82      0.85       337\n",
            "            NORMAL       0.88      0.82      0.85       337\n",
            "            NORMAL       0.88      0.82      0.85       337\n",
            "            NORMAL       0.88      0.82      0.85       337\n",
            "            NORMAL       0.88      0.82      0.85       337\n",
            "            NORMAL       0.88      0.82      0.85       337\n",
            "            NORMAL       0.88      0.82      0.85       337\n",
            "            NORMAL       0.88      0.82      0.85       337\n",
            "            NORMAL       0.88      0.82      0.85       337\n",
            "            NORMAL       0.88      0.82      0.85       337\n",
            "            NORMAL       0.88      0.82      0.85       337\n",
            "            NORMAL       0.88      0.82      0.85       337\n",
            "            NORMAL       0.88      0.82      0.85       337\n",
            "            NORMAL       0.88      0.82      0.85       337\n",
            "            NORMAL       0.88      0.82      0.85       337\n",
            "            NORMAL       0.88      0.82      0.85       337\n",
            "            NORMAL       0.88      0.82      0.85       337\n",
            "            NORMAL       0.88      0.82      0.85       337\n",
            "            NORMAL       0.88      0.82      0.85       337\n",
            "            NORMAL       0.88      0.82      0.85       337\n",
            "            NORMAL       0.88      0.82      0.85       337\n",
            "            NORMAL       0.88      0.82      0.85       337\n",
            "            NORMAL       0.88      0.82      0.85       337\n",
            "            NORMAL       0.88      0.82      0.85       337\n",
            "            NORMAL       0.88      0.82      0.85       337\n",
            "            NORMAL       0.88      0.82      0.85       337\n",
            "            NORMAL       0.88      0.82      0.85       337\n",
            "            NORMAL       0.88      0.82      0.85       337\n",
            "            NORMAL       0.88      0.82      0.85       337\n",
            "            NORMAL       0.88      0.82      0.85       337\n",
            "            NORMAL       0.88      0.82      0.85       337\n",
            "            NORMAL       0.88      0.82      0.85       337\n",
            "            NORMAL       0.88      0.82      0.85       337\n",
            "            NORMAL       0.88      0.82      0.85       337\n",
            "            NORMAL       0.88      0.82      0.85       337\n",
            "            NORMAL       0.88      0.82      0.85       337\n",
            "            NORMAL       0.88      0.82      0.85       337\n",
            "            NORMAL       0.88      0.82      0.85       337\n",
            "            NORMAL       0.88      0.82      0.85       337\n",
            "            NORMAL       0.88      0.82      0.85       337\n",
            "            NORMAL       0.88      0.82      0.85       337\n",
            "            NORMAL       0.88      0.82      0.85       337\n",
            "            NORMAL       0.88      0.82      0.85       337\n",
            "            NORMAL       0.88      0.82      0.85       337\n",
            "            NORMAL       0.88      0.82      0.85       337\n",
            "            NORMAL       0.88      0.82      0.85       337\n",
            "            NORMAL       0.88      0.82      0.85       337\n",
            "            NORMAL       0.88      0.82      0.85       337\n",
            "            NORMAL       0.88      0.82      0.85       337\n",
            "            NORMAL       0.88      0.82      0.85       337\n",
            "            NORMAL       0.88      0.82      0.85       337\n",
            "            NORMAL       0.88      0.82      0.85       337\n",
            "            NORMAL       0.88      0.82      0.85       337\n",
            "            NORMAL       0.88      0.82      0.85       337\n",
            "            NORMAL       0.88      0.82      0.85       337\n",
            "            NORMAL       0.88      0.82      0.85       337\n",
            "            NORMAL       0.88      0.82      0.85       337\n",
            "            NORMAL       0.88      0.82      0.85       337\n",
            "            NORMAL       0.88      0.82      0.85       337\n",
            "            NORMAL       0.88      0.82      0.85       337\n",
            "            NORMAL       0.88      0.82      0.85       337\n",
            "            NORMAL       0.88      0.82      0.85       337\n",
            "            NORMAL       0.88      0.82      0.85       337\n",
            "            NORMAL       0.88      0.82      0.85       337\n",
            "            NORMAL       0.88      0.82      0.85       337\n",
            "            NORMAL       0.88      0.82      0.85       337\n",
            "            NORMAL       0.88      0.82      0.85       337\n",
            "            NORMAL       0.88      0.82      0.85       337\n",
            "            NORMAL       0.88      0.82      0.85       337\n",
            "            NORMAL       0.88      0.82      0.85       337\n",
            "            NORMAL       0.88      0.82      0.85       337\n",
            "            NORMAL       0.88      0.82      0.85       337\n",
            "            NORMAL       0.88      0.82      0.85       337\n",
            "            NORMAL       0.88      0.82      0.85       337\n",
            "            NORMAL       0.88      0.82      0.85       337\n",
            "            NORMAL       0.88      0.82      0.85       337\n",
            "            NORMAL       0.88      0.82      0.85       337\n",
            "            NORMAL       0.88      0.82      0.85       337\n",
            "            NORMAL       0.88      0.82      0.85       337\n",
            "            NORMAL       0.88      0.82      0.85       337\n",
            "            NORMAL       0.88      0.82      0.85       337\n",
            "            NORMAL       0.88      0.82      0.85       337\n",
            "            NORMAL       0.88      0.82      0.85       337\n",
            "            NORMAL       0.88      0.82      0.85       337\n",
            "            NORMAL       0.88      0.82      0.85       337\n",
            "            NORMAL       0.88      0.82      0.85       337\n",
            "            NORMAL       0.88      0.82      0.85       337\n",
            "            NORMAL       0.88      0.82      0.85       337\n",
            "            NORMAL       0.88      0.82      0.85       337\n",
            "            NORMAL       0.88      0.82      0.85       337\n",
            "            NORMAL       0.88      0.82      0.85       337\n",
            "            NORMAL       0.88      0.82      0.85       337\n",
            "            NORMAL       0.88      0.82      0.85       337\n",
            "            NORMAL       0.88      0.82      0.85       337\n",
            "            NORMAL       0.88      0.82      0.85       337\n",
            "            NORMAL       0.88      0.82      0.85       337\n",
            "            NORMAL       0.88      0.82      0.85       337\n",
            "            NORMAL       0.88      0.82      0.85       337\n",
            "            NORMAL       0.88      0.82      0.85       337\n",
            "            NORMAL       0.88      0.82      0.85       337\n",
            "            NORMAL       0.88      0.82      0.85       337\n",
            "            NORMAL       0.88      0.82      0.85       337\n",
            "            NORMAL       0.88      0.82      0.85       337\n",
            "            NORMAL       0.88      0.82      0.85       337\n",
            "            NORMAL       0.88      0.82      0.85       337\n",
            "            NORMAL       0.88      0.82      0.85       337\n",
            "            NORMAL       0.88      0.82      0.85       337\n",
            "            NORMAL       0.88      0.82      0.85       337\n",
            "            NORMAL       0.88      0.82      0.85       337\n",
            "            NORMAL       0.88      0.82      0.85       337\n",
            "            NORMAL       0.88      0.82      0.85       337\n",
            "            NORMAL       0.88      0.82      0.85       337\n",
            "            NORMAL       0.88      0.82      0.85       337\n",
            "            NORMAL       0.88      0.82      0.85       337\n",
            "            NORMAL       0.88      0.82      0.85       337\n",
            "            NORMAL       0.88      0.82      0.85       337\n",
            "            NORMAL       0.88      0.82      0.85       337\n",
            "            NORMAL       0.88      0.82      0.85       337\n",
            "            NORMAL       0.88      0.82      0.85       337\n",
            "            NORMAL       0.88      0.82      0.85       337\n",
            "            NORMAL       0.88      0.82      0.85       337\n",
            "            NORMAL       0.88      0.82      0.85       337\n",
            "            NORMAL       0.88      0.82      0.85       337\n",
            "            NORMAL       0.88      0.82      0.85       337\n",
            "            NORMAL       0.88      0.82      0.85       337\n",
            "            NORMAL       0.88      0.82      0.85       337\n",
            "            NORMAL       0.88      0.82      0.85       337\n",
            "            NORMAL       0.88      0.82      0.85       337\n",
            "            NORMAL       0.88      0.82      0.85       337\n",
            "            NORMAL       0.88      0.82      0.85       337\n",
            "            NORMAL       0.88      0.82      0.85       337\n",
            "            NORMAL       0.88      0.82      0.85       337\n",
            "            NORMAL       0.88      0.82      0.85       337\n",
            "            NORMAL       0.88      0.82      0.85       337\n",
            "            NORMAL       0.88      0.82      0.85       337\n",
            "            NORMAL       0.88      0.82      0.85       337\n",
            "            NORMAL       0.88      0.82      0.85       337\n",
            "            NORMAL       0.88      0.82      0.85       337\n",
            "            NORMAL       0.88      0.82      0.85       337\n",
            "            NORMAL       0.88      0.82      0.85       337\n",
            "            NORMAL       0.88      0.82      0.85       337\n",
            "            NORMAL       0.88      0.82      0.85       337\n",
            "            NORMAL       0.88      0.82      0.85       337\n",
            "            NORMAL       0.88      0.82      0.85       337\n",
            "            NORMAL       0.88      0.82      0.85       337\n",
            "            NORMAL       0.88      0.82      0.85       337\n",
            "            NORMAL       0.88      0.82      0.85       337\n",
            "            NORMAL       0.88      0.82      0.85       337\n",
            "            NORMAL       0.88      0.82      0.85       337\n",
            "            NORMAL       0.88      0.82      0.85       337\n",
            "            NORMAL       0.88      0.82      0.85       337\n",
            "            NORMAL       0.88      0.82      0.85       337\n",
            "            NORMAL       0.88      0.82      0.85       337\n",
            "            NORMAL       0.88      0.82      0.85       337\n",
            "            NORMAL       0.88      0.82      0.85       337\n",
            "            NORMAL       0.88      0.82      0.85       337\n",
            "            NORMAL       0.88      0.82      0.85       337\n",
            "            NORMAL       0.88      0.82      0.85       337\n",
            "            NORMAL       0.88      0.82      0.85       337\n",
            "            NORMAL       0.88      0.82      0.85       337\n",
            "            NORMAL       0.88      0.82      0.85       337\n",
            "            NORMAL       0.88      0.82      0.85       337\n",
            "            NORMAL       0.88      0.82      0.85       337\n",
            "            NORMAL       0.88      0.82      0.85       337\n",
            "            NORMAL       0.88      0.82      0.85       337\n",
            "            NORMAL       0.88      0.82      0.85       337\n",
            "            NORMAL       0.88      0.82      0.85       337\n",
            "            NORMAL       0.88      0.82      0.85       337\n",
            "            NORMAL       0.88      0.82      0.85       337\n",
            "            NORMAL       0.88      0.82      0.85       337\n",
            "            NORMAL       0.88      0.82      0.85       337\n",
            "            NORMAL       0.88      0.82      0.85       337\n",
            "            NORMAL       0.88      0.82      0.85       337\n",
            "            NORMAL       0.88      0.82      0.85       337\n",
            "            NORMAL       0.88      0.82      0.85       337\n",
            "            NORMAL       0.88      0.82      0.85       337\n",
            "            NORMAL       0.88      0.82      0.85       337\n",
            "            NORMAL       0.88      0.82      0.85       337\n",
            "            NORMAL       0.88      0.82      0.85       337\n",
            "            NORMAL       0.88      0.82      0.85       337\n",
            "            NORMAL       0.88      0.82      0.85       337\n",
            "            NORMAL       0.88      0.82      0.85       337\n",
            "            NORMAL       0.88      0.82      0.85       337\n",
            "            NORMAL       0.88      0.82      0.85       337\n",
            "            NORMAL       0.88      0.82      0.85       337\n",
            "            NORMAL       0.88      0.82      0.85       337\n",
            "            NORMAL       0.88      0.82      0.85       337\n",
            "            NORMAL       0.88      0.82      0.85       337\n",
            "            NORMAL       0.88      0.82      0.85       337\n",
            "            NORMAL       0.88      0.82      0.85       337\n",
            "            NORMAL       0.88      0.82      0.85       337\n",
            "            NORMAL       0.88      0.82      0.85       337\n",
            "            NORMAL       0.88      0.82      0.85       337\n",
            "            NORMAL       0.88      0.82      0.85       337\n",
            "            NORMAL       0.88      0.82      0.85       337\n",
            "            NORMAL       0.88      0.82      0.85       337\n",
            "            NORMAL       0.88      0.82      0.85       337\n",
            "            NORMAL       0.88      0.82      0.85       337\n",
            "            NORMAL       0.88      0.82      0.85       337\n",
            "            NORMAL       0.88      0.82      0.85       337\n",
            "            NORMAL       0.88      0.82      0.85       337\n",
            "            NORMAL       0.88      0.82      0.85       337\n",
            "            NORMAL       0.88      0.82      0.85       337\n",
            "            NORMAL       0.88      0.82      0.85       337\n",
            "            NORMAL       0.88      0.82      0.85       337\n",
            "            NORMAL       0.88      0.82      0.85       337\n",
            "            NORMAL       0.88      0.82      0.85       337\n",
            "            NORMAL       0.88      0.82      0.85       337\n",
            "            NORMAL       0.88      0.82      0.85       337\n",
            "            NORMAL       0.88      0.82      0.85       337\n",
            "            NORMAL       0.88      0.82      0.85       337\n",
            "            NORMAL       0.88      0.82      0.85       337\n",
            "            NORMAL       0.88      0.82      0.85       337\n",
            "            NORMAL       0.88      0.82      0.85       337\n",
            "            NORMAL       0.88      0.82      0.85       337\n",
            "            NORMAL       0.88      0.82      0.85       337\n",
            "            NORMAL       0.88      0.82      0.85       337\n",
            "            NORMAL       0.88      0.82      0.85       337\n",
            "            NORMAL       0.88      0.82      0.85       337\n",
            "            NORMAL       0.88      0.82      0.85       337\n",
            "            NORMAL       0.88      0.82      0.85       337\n",
            "            NORMAL       0.88      0.82      0.85       337\n",
            "            NORMAL       0.88      0.82      0.85       337\n",
            "            NORMAL       0.88      0.82      0.85       337\n",
            "            NORMAL       0.88      0.82      0.85       337\n",
            "            NORMAL       0.88      0.82      0.85       337\n",
            "            NORMAL       0.88      0.82      0.85       337\n",
            "            NORMAL       0.88      0.82      0.85       337\n",
            "            NORMAL       0.88      0.82      0.85       337\n",
            "            NORMAL       0.88      0.82      0.85       337\n",
            "            NORMAL       0.88      0.82      0.85       337\n",
            "            NORMAL       0.88      0.82      0.85       337\n",
            "            NORMAL       0.88      0.82      0.85       337\n",
            "            NORMAL       0.88      0.82      0.85       337\n",
            "            NORMAL       0.88      0.82      0.85       337\n",
            "            NORMAL       0.88      0.82      0.85       337\n",
            "            NORMAL       0.88      0.82      0.85       337\n",
            "            NORMAL       0.88      0.82      0.85       337\n",
            "            NORMAL       0.88      0.82      0.85       337\n",
            "            NORMAL       0.88      0.82      0.85       337\n",
            "            NORMAL       0.88      0.82      0.85       337\n",
            "            NORMAL       0.88      0.82      0.85       337\n",
            "            NORMAL       0.88      0.82      0.85       337\n",
            "            NORMAL       0.88      0.82      0.85       337\n",
            "            NORMAL       0.88      0.82      0.85       337\n",
            "            NORMAL       0.88      0.82      0.85       337\n",
            "            NORMAL       0.88      0.82      0.85       337\n",
            "            NORMAL       0.88      0.82      0.85       337\n",
            "            NORMAL       0.88      0.82      0.85       337\n",
            "            NORMAL       0.88      0.82      0.85       337\n",
            "            NORMAL       0.88      0.82      0.85       337\n",
            "            NORMAL       0.88      0.82      0.85       337\n",
            "            NORMAL       0.88      0.82      0.85       337\n",
            "            NORMAL       0.88      0.82      0.85       337\n",
            "            NORMAL       0.88      0.82      0.85       337\n",
            "            NORMAL       0.88      0.82      0.85       337\n",
            "            NORMAL       0.88      0.82      0.85       337\n",
            "            NORMAL       0.88      0.82      0.85       337\n",
            "            NORMAL       0.88      0.82      0.85       337\n",
            "            NORMAL       0.88      0.82      0.85       337\n",
            "            NORMAL       0.88      0.82      0.85       337\n",
            "            NORMAL       0.88      0.82      0.85       337\n",
            "            NORMAL       0.88      0.82      0.85       337\n",
            "            NORMAL       0.88      0.82      0.85       337\n",
            "            NORMAL       0.88      0.82      0.85       337\n",
            "            NORMAL       0.88      0.82      0.85       337\n",
            "            NORMAL       0.88      0.82      0.85       337\n",
            "            NORMAL       0.88      0.82      0.85       337\n",
            "            NORMAL       0.88      0.82      0.85       337\n",
            "            NORMAL       0.88      0.82      0.85       337\n",
            "            NORMAL       0.88      0.82      0.85       337\n",
            "            NORMAL       0.88      0.82      0.85       337\n",
            "            NORMAL       0.88      0.82      0.85       337\n",
            "            NORMAL       0.88      0.82      0.85       337\n",
            "            NORMAL       0.88      0.82      0.85       337\n",
            "            NORMAL       0.88      0.82      0.85       337\n",
            "            NORMAL       0.88      0.82      0.85       337\n",
            "            NORMAL       0.88      0.82      0.85       337\n",
            "            NORMAL       0.88      0.82      0.85       337\n",
            "            NORMAL       0.88      0.82      0.85       337\n",
            "            NORMAL       0.88      0.82      0.85       337\n",
            "            NORMAL       0.88      0.82      0.85       337\n",
            "            NORMAL       0.88      0.82      0.85       337\n",
            "            NORMAL       0.88      0.82      0.85       337\n",
            "            NORMAL       0.88      0.82      0.85       337\n",
            "            NORMAL       0.88      0.82      0.85       337\n",
            "            NORMAL       0.88      0.82      0.85       337\n",
            "            NORMAL       0.88      0.82      0.85       337\n",
            "            NORMAL       0.88      0.82      0.85       337\n",
            "            NORMAL       0.88      0.82      0.85       337\n",
            "            NORMAL       0.88      0.82      0.85       337\n",
            "            NORMAL       0.88      0.82      0.85       337\n",
            "            NORMAL       0.88      0.82      0.85       337\n",
            "            NORMAL       0.88      0.82      0.85       337\n",
            "            NORMAL       0.88      0.82      0.85       337\n",
            "            NORMAL       0.88      0.82      0.85       337\n",
            "            NORMAL       0.88      0.82      0.85       337\n",
            "            NORMAL       0.88      0.82      0.85       337\n",
            "            NORMAL       0.88      0.82      0.85       337\n",
            "            NORMAL       0.88      0.82      0.85       337\n",
            "            NORMAL       0.88      0.82      0.85       337\n",
            "            NORMAL       0.88      0.82      0.85       337\n",
            "            NORMAL       0.88      0.82      0.85       337\n",
            "            NORMAL       0.88      0.82      0.85       337\n",
            "            NORMAL       0.88      0.82      0.85       337\n",
            "            NORMAL       0.88      0.82      0.85       337\n",
            "            NORMAL       0.88      0.82      0.85       337\n",
            "            NORMAL       0.88      0.82      0.85       337\n",
            "            NORMAL       0.88      0.82      0.85       337\n",
            "            NORMAL       0.88      0.82      0.85       337\n",
            "PNEUMONIA_BACTERIA       0.70      0.95      0.81       442\n",
            "PNEUMONIA_BACTERIA       0.70      0.95      0.81       442\n",
            "PNEUMONIA_BACTERIA       0.70      0.95      0.81       442\n",
            "PNEUMONIA_BACTERIA       0.70      0.95      0.81       442\n",
            "PNEUMONIA_BACTERIA       0.70      0.95      0.81       442\n",
            "PNEUMONIA_BACTERIA       0.70      0.95      0.81       442\n",
            "PNEUMONIA_BACTERIA       0.70      0.95      0.81       442\n",
            "PNEUMONIA_BACTERIA       0.70      0.95      0.81       442\n",
            "PNEUMONIA_BACTERIA       0.70      0.95      0.81       442\n",
            "PNEUMONIA_BACTERIA       0.70      0.95      0.81       442\n",
            "PNEUMONIA_BACTERIA       0.70      0.95      0.81       442\n",
            "PNEUMONIA_BACTERIA       0.70      0.95      0.81       442\n",
            "PNEUMONIA_BACTERIA       0.70      0.95      0.81       442\n",
            "PNEUMONIA_BACTERIA       0.70      0.95      0.81       442\n",
            "PNEUMONIA_BACTERIA       0.70      0.95      0.81       442\n",
            "PNEUMONIA_BACTERIA       0.70      0.95      0.81       442\n",
            "PNEUMONIA_BACTERIA       0.70      0.95      0.81       442\n",
            "PNEUMONIA_BACTERIA       0.70      0.95      0.81       442\n",
            "PNEUMONIA_BACTERIA       0.70      0.95      0.81       442\n",
            "PNEUMONIA_BACTERIA       0.70      0.95      0.81       442\n",
            "PNEUMONIA_BACTERIA       0.70      0.95      0.81       442\n",
            "PNEUMONIA_BACTERIA       0.70      0.95      0.81       442\n",
            "PNEUMONIA_BACTERIA       0.70      0.95      0.81       442\n",
            "PNEUMONIA_BACTERIA       0.70      0.95      0.81       442\n",
            "PNEUMONIA_BACTERIA       0.70      0.95      0.81       442\n",
            "PNEUMONIA_BACTERIA       0.70      0.95      0.81       442\n",
            "PNEUMONIA_BACTERIA       0.70      0.95      0.81       442\n",
            "PNEUMONIA_BACTERIA       0.70      0.95      0.81       442\n",
            "PNEUMONIA_BACTERIA       0.70      0.95      0.81       442\n",
            "PNEUMONIA_BACTERIA       0.70      0.95      0.81       442\n",
            "PNEUMONIA_BACTERIA       0.70      0.95      0.81       442\n",
            "PNEUMONIA_BACTERIA       0.70      0.95      0.81       442\n",
            "PNEUMONIA_BACTERIA       0.70      0.95      0.81       442\n",
            "PNEUMONIA_BACTERIA       0.70      0.95      0.81       442\n",
            "PNEUMONIA_BACTERIA       0.70      0.95      0.81       442\n",
            "PNEUMONIA_BACTERIA       0.70      0.95      0.81       442\n",
            "PNEUMONIA_BACTERIA       0.70      0.95      0.81       442\n",
            "PNEUMONIA_BACTERIA       0.70      0.95      0.81       442\n",
            "PNEUMONIA_BACTERIA       0.70      0.95      0.81       442\n",
            "PNEUMONIA_BACTERIA       0.70      0.95      0.81       442\n",
            "PNEUMONIA_BACTERIA       0.70      0.95      0.81       442\n",
            "PNEUMONIA_BACTERIA       0.70      0.95      0.81       442\n",
            "PNEUMONIA_BACTERIA       0.70      0.95      0.81       442\n",
            "PNEUMONIA_BACTERIA       0.70      0.95      0.81       442\n",
            "PNEUMONIA_BACTERIA       0.70      0.95      0.81       442\n",
            "PNEUMONIA_BACTERIA       0.70      0.95      0.81       442\n",
            "PNEUMONIA_BACTERIA       0.70      0.95      0.81       442\n",
            "PNEUMONIA_BACTERIA       0.70      0.95      0.81       442\n",
            "PNEUMONIA_BACTERIA       0.70      0.95      0.81       442\n",
            "PNEUMONIA_BACTERIA       0.70      0.95      0.81       442\n",
            "PNEUMONIA_BACTERIA       0.70      0.95      0.81       442\n",
            "PNEUMONIA_BACTERIA       0.70      0.95      0.81       442\n",
            "PNEUMONIA_BACTERIA       0.70      0.95      0.81       442\n",
            "PNEUMONIA_BACTERIA       0.70      0.95      0.81       442\n",
            "PNEUMONIA_BACTERIA       0.70      0.95      0.81       442\n",
            "PNEUMONIA_BACTERIA       0.70      0.95      0.81       442\n",
            "PNEUMONIA_BACTERIA       0.70      0.95      0.81       442\n",
            "PNEUMONIA_BACTERIA       0.70      0.95      0.81       442\n",
            "PNEUMONIA_BACTERIA       0.70      0.95      0.81       442\n",
            "PNEUMONIA_BACTERIA       0.70      0.95      0.81       442\n",
            "PNEUMONIA_BACTERIA       0.70      0.95      0.81       442\n",
            "PNEUMONIA_BACTERIA       0.70      0.95      0.81       442\n",
            "PNEUMONIA_BACTERIA       0.70      0.95      0.81       442\n",
            "PNEUMONIA_BACTERIA       0.70      0.95      0.81       442\n",
            "PNEUMONIA_BACTERIA       0.70      0.95      0.81       442\n",
            "PNEUMONIA_BACTERIA       0.70      0.95      0.81       442\n",
            "PNEUMONIA_BACTERIA       0.70      0.95      0.81       442\n",
            "PNEUMONIA_BACTERIA       0.70      0.95      0.81       442\n",
            "PNEUMONIA_BACTERIA       0.70      0.95      0.81       442\n",
            "PNEUMONIA_BACTERIA       0.70      0.95      0.81       442\n",
            "PNEUMONIA_BACTERIA       0.70      0.95      0.81       442\n",
            "PNEUMONIA_BACTERIA       0.70      0.95      0.81       442\n",
            "PNEUMONIA_BACTERIA       0.70      0.95      0.81       442\n",
            "PNEUMONIA_BACTERIA       0.70      0.95      0.81       442\n",
            "PNEUMONIA_BACTERIA       0.70      0.95      0.81       442\n",
            "PNEUMONIA_BACTERIA       0.70      0.95      0.81       442\n",
            "PNEUMONIA_BACTERIA       0.70      0.95      0.81       442\n",
            "PNEUMONIA_BACTERIA       0.70      0.95      0.81       442\n",
            "PNEUMONIA_BACTERIA       0.70      0.95      0.81       442\n",
            "PNEUMONIA_BACTERIA       0.70      0.95      0.81       442\n",
            "PNEUMONIA_BACTERIA       0.70      0.95      0.81       442\n",
            "PNEUMONIA_BACTERIA       0.70      0.95      0.81       442\n",
            "PNEUMONIA_BACTERIA       0.70      0.95      0.81       442\n",
            "PNEUMONIA_BACTERIA       0.70      0.95      0.81       442\n",
            "PNEUMONIA_BACTERIA       0.70      0.95      0.81       442\n",
            "PNEUMONIA_BACTERIA       0.70      0.95      0.81       442\n",
            "PNEUMONIA_BACTERIA       0.70      0.95      0.81       442\n",
            "PNEUMONIA_BACTERIA       0.70      0.95      0.81       442\n",
            "PNEUMONIA_BACTERIA       0.70      0.95      0.81       442\n",
            "PNEUMONIA_BACTERIA       0.70      0.95      0.81       442\n",
            "PNEUMONIA_BACTERIA       0.70      0.95      0.81       442\n",
            "PNEUMONIA_BACTERIA       0.70      0.95      0.81       442\n",
            "PNEUMONIA_BACTERIA       0.70      0.95      0.81       442\n",
            "PNEUMONIA_BACTERIA       0.70      0.95      0.81       442\n",
            "PNEUMONIA_BACTERIA       0.70      0.95      0.81       442\n",
            "PNEUMONIA_BACTERIA       0.70      0.95      0.81       442\n",
            "PNEUMONIA_BACTERIA       0.70      0.95      0.81       442\n",
            "PNEUMONIA_BACTERIA       0.70      0.95      0.81       442\n",
            "PNEUMONIA_BACTERIA       0.70      0.95      0.81       442\n",
            "PNEUMONIA_BACTERIA       0.70      0.95      0.81       442\n",
            "PNEUMONIA_BACTERIA       0.70      0.95      0.81       442\n",
            "PNEUMONIA_BACTERIA       0.70      0.95      0.81       442\n",
            "PNEUMONIA_BACTERIA       0.70      0.95      0.81       442\n",
            "PNEUMONIA_BACTERIA       0.70      0.95      0.81       442\n",
            "PNEUMONIA_BACTERIA       0.70      0.95      0.81       442\n",
            "PNEUMONIA_BACTERIA       0.70      0.95      0.81       442\n",
            "PNEUMONIA_BACTERIA       0.70      0.95      0.81       442\n",
            "PNEUMONIA_BACTERIA       0.70      0.95      0.81       442\n",
            "PNEUMONIA_BACTERIA       0.70      0.95      0.81       442\n",
            "PNEUMONIA_BACTERIA       0.70      0.95      0.81       442\n",
            "PNEUMONIA_BACTERIA       0.70      0.95      0.81       442\n",
            "PNEUMONIA_BACTERIA       0.70      0.95      0.81       442\n",
            "PNEUMONIA_BACTERIA       0.70      0.95      0.81       442\n",
            "PNEUMONIA_BACTERIA       0.70      0.95      0.81       442\n",
            "PNEUMONIA_BACTERIA       0.70      0.95      0.81       442\n",
            "PNEUMONIA_BACTERIA       0.70      0.95      0.81       442\n",
            "PNEUMONIA_BACTERIA       0.70      0.95      0.81       442\n",
            "PNEUMONIA_BACTERIA       0.70      0.95      0.81       442\n",
            "PNEUMONIA_BACTERIA       0.70      0.95      0.81       442\n",
            "PNEUMONIA_BACTERIA       0.70      0.95      0.81       442\n",
            "PNEUMONIA_BACTERIA       0.70      0.95      0.81       442\n",
            "PNEUMONIA_BACTERIA       0.70      0.95      0.81       442\n",
            "PNEUMONIA_BACTERIA       0.70      0.95      0.81       442\n",
            "PNEUMONIA_BACTERIA       0.70      0.95      0.81       442\n",
            "PNEUMONIA_BACTERIA       0.70      0.95      0.81       442\n",
            "PNEUMONIA_BACTERIA       0.70      0.95      0.81       442\n",
            "PNEUMONIA_BACTERIA       0.70      0.95      0.81       442\n",
            "PNEUMONIA_BACTERIA       0.70      0.95      0.81       442\n",
            "PNEUMONIA_BACTERIA       0.70      0.95      0.81       442\n",
            "PNEUMONIA_BACTERIA       0.70      0.95      0.81       442\n",
            "PNEUMONIA_BACTERIA       0.70      0.95      0.81       442\n",
            "PNEUMONIA_BACTERIA       0.70      0.95      0.81       442\n",
            "PNEUMONIA_BACTERIA       0.70      0.95      0.81       442\n",
            "PNEUMONIA_BACTERIA       0.70      0.95      0.81       442\n",
            "PNEUMONIA_BACTERIA       0.70      0.95      0.81       442\n",
            "PNEUMONIA_BACTERIA       0.70      0.95      0.81       442\n",
            "PNEUMONIA_BACTERIA       0.70      0.95      0.81       442\n",
            "PNEUMONIA_BACTERIA       0.70      0.95      0.81       442\n",
            "PNEUMONIA_BACTERIA       0.70      0.95      0.81       442\n",
            "PNEUMONIA_BACTERIA       0.70      0.95      0.81       442\n",
            "PNEUMONIA_BACTERIA       0.70      0.95      0.81       442\n",
            "PNEUMONIA_BACTERIA       0.70      0.95      0.81       442\n",
            "PNEUMONIA_BACTERIA       0.70      0.95      0.81       442\n",
            "PNEUMONIA_BACTERIA       0.70      0.95      0.81       442\n",
            "PNEUMONIA_BACTERIA       0.70      0.95      0.81       442\n",
            "PNEUMONIA_BACTERIA       0.70      0.95      0.81       442\n",
            "PNEUMONIA_BACTERIA       0.70      0.95      0.81       442\n",
            "PNEUMONIA_BACTERIA       0.70      0.95      0.81       442\n",
            "PNEUMONIA_BACTERIA       0.70      0.95      0.81       442\n",
            "PNEUMONIA_BACTERIA       0.70      0.95      0.81       442\n",
            "PNEUMONIA_BACTERIA       0.70      0.95      0.81       442\n",
            "PNEUMONIA_BACTERIA       0.70      0.95      0.81       442\n",
            "PNEUMONIA_BACTERIA       0.70      0.95      0.81       442\n",
            "PNEUMONIA_BACTERIA       0.70      0.95      0.81       442\n",
            "PNEUMONIA_BACTERIA       0.70      0.95      0.81       442\n",
            "PNEUMONIA_BACTERIA       0.70      0.95      0.81       442\n",
            "PNEUMONIA_BACTERIA       0.70      0.95      0.81       442\n",
            "PNEUMONIA_BACTERIA       0.70      0.95      0.81       442\n",
            "PNEUMONIA_BACTERIA       0.70      0.95      0.81       442\n",
            "PNEUMONIA_BACTERIA       0.70      0.95      0.81       442\n",
            "PNEUMONIA_BACTERIA       0.70      0.95      0.81       442\n",
            "PNEUMONIA_BACTERIA       0.70      0.95      0.81       442\n",
            "PNEUMONIA_BACTERIA       0.70      0.95      0.81       442\n",
            "PNEUMONIA_BACTERIA       0.70      0.95      0.81       442\n",
            "PNEUMONIA_BACTERIA       0.70      0.95      0.81       442\n",
            "PNEUMONIA_BACTERIA       0.70      0.95      0.81       442\n",
            "PNEUMONIA_BACTERIA       0.70      0.95      0.81       442\n",
            "PNEUMONIA_BACTERIA       0.70      0.95      0.81       442\n",
            "PNEUMONIA_BACTERIA       0.70      0.95      0.81       442\n",
            "PNEUMONIA_BACTERIA       0.70      0.95      0.81       442\n",
            "PNEUMONIA_BACTERIA       0.70      0.95      0.81       442\n",
            "PNEUMONIA_BACTERIA       0.70      0.95      0.81       442\n",
            "PNEUMONIA_BACTERIA       0.70      0.95      0.81       442\n",
            "PNEUMONIA_BACTERIA       0.70      0.95      0.81       442\n",
            "PNEUMONIA_BACTERIA       0.70      0.95      0.81       442\n",
            "PNEUMONIA_BACTERIA       0.70      0.95      0.81       442\n",
            "PNEUMONIA_BACTERIA       0.70      0.95      0.81       442\n",
            "PNEUMONIA_BACTERIA       0.70      0.95      0.81       442\n",
            "PNEUMONIA_BACTERIA       0.70      0.95      0.81       442\n",
            "PNEUMONIA_BACTERIA       0.70      0.95      0.81       442\n",
            "PNEUMONIA_BACTERIA       0.70      0.95      0.81       442\n",
            "PNEUMONIA_BACTERIA       0.70      0.95      0.81       442\n",
            "PNEUMONIA_BACTERIA       0.70      0.95      0.81       442\n",
            "PNEUMONIA_BACTERIA       0.70      0.95      0.81       442\n",
            "PNEUMONIA_BACTERIA       0.70      0.95      0.81       442\n",
            "PNEUMONIA_BACTERIA       0.70      0.95      0.81       442\n",
            "PNEUMONIA_BACTERIA       0.70      0.95      0.81       442\n",
            "PNEUMONIA_BACTERIA       0.70      0.95      0.81       442\n",
            "PNEUMONIA_BACTERIA       0.70      0.95      0.81       442\n",
            "PNEUMONIA_BACTERIA       0.70      0.95      0.81       442\n",
            "PNEUMONIA_BACTERIA       0.70      0.95      0.81       442\n",
            "PNEUMONIA_BACTERIA       0.70      0.95      0.81       442\n",
            "PNEUMONIA_BACTERIA       0.70      0.95      0.81       442\n",
            "PNEUMONIA_BACTERIA       0.70      0.95      0.81       442\n",
            "PNEUMONIA_BACTERIA       0.70      0.95      0.81       442\n",
            "PNEUMONIA_BACTERIA       0.70      0.95      0.81       442\n",
            "PNEUMONIA_BACTERIA       0.70      0.95      0.81       442\n",
            "PNEUMONIA_BACTERIA       0.70      0.95      0.81       442\n",
            "PNEUMONIA_BACTERIA       0.70      0.95      0.81       442\n",
            "PNEUMONIA_BACTERIA       0.70      0.95      0.81       442\n",
            "PNEUMONIA_BACTERIA       0.70      0.95      0.81       442\n",
            "PNEUMONIA_BACTERIA       0.70      0.95      0.81       442\n",
            "PNEUMONIA_BACTERIA       0.70      0.95      0.81       442\n",
            "PNEUMONIA_BACTERIA       0.70      0.95      0.81       442\n",
            "PNEUMONIA_BACTERIA       0.70      0.95      0.81       442\n",
            "PNEUMONIA_BACTERIA       0.70      0.95      0.81       442\n",
            "PNEUMONIA_BACTERIA       0.70      0.95      0.81       442\n",
            "PNEUMONIA_BACTERIA       0.70      0.95      0.81       442\n",
            "PNEUMONIA_BACTERIA       0.70      0.95      0.81       442\n",
            "PNEUMONIA_BACTERIA       0.70      0.95      0.81       442\n",
            "PNEUMONIA_BACTERIA       0.70      0.95      0.81       442\n",
            "PNEUMONIA_BACTERIA       0.70      0.95      0.81       442\n",
            "PNEUMONIA_BACTERIA       0.70      0.95      0.81       442\n",
            "PNEUMONIA_BACTERIA       0.70      0.95      0.81       442\n",
            "PNEUMONIA_BACTERIA       0.70      0.95      0.81       442\n",
            "PNEUMONIA_BACTERIA       0.70      0.95      0.81       442\n",
            "PNEUMONIA_BACTERIA       0.70      0.95      0.81       442\n",
            "PNEUMONIA_BACTERIA       0.70      0.95      0.81       442\n",
            "PNEUMONIA_BACTERIA       0.70      0.95      0.81       442\n",
            "PNEUMONIA_BACTERIA       0.70      0.95      0.81       442\n",
            "PNEUMONIA_BACTERIA       0.70      0.95      0.81       442\n",
            "PNEUMONIA_BACTERIA       0.70      0.95      0.81       442\n",
            "PNEUMONIA_BACTERIA       0.70      0.95      0.81       442\n",
            "PNEUMONIA_BACTERIA       0.70      0.95      0.81       442\n",
            "PNEUMONIA_BACTERIA       0.70      0.95      0.81       442\n",
            "PNEUMONIA_BACTERIA       0.70      0.95      0.81       442\n",
            "PNEUMONIA_BACTERIA       0.70      0.95      0.81       442\n",
            "PNEUMONIA_BACTERIA       0.70      0.95      0.81       442\n",
            "PNEUMONIA_BACTERIA       0.70      0.95      0.81       442\n",
            "PNEUMONIA_BACTERIA       0.70      0.95      0.81       442\n",
            "PNEUMONIA_BACTERIA       0.70      0.95      0.81       442\n",
            "PNEUMONIA_BACTERIA       0.70      0.95      0.81       442\n",
            "PNEUMONIA_BACTERIA       0.70      0.95      0.81       442\n",
            "PNEUMONIA_BACTERIA       0.70      0.95      0.81       442\n",
            "PNEUMONIA_BACTERIA       0.70      0.95      0.81       442\n",
            "PNEUMONIA_BACTERIA       0.70      0.95      0.81       442\n",
            "PNEUMONIA_BACTERIA       0.70      0.95      0.81       442\n",
            "PNEUMONIA_BACTERIA       0.70      0.95      0.81       442\n",
            "PNEUMONIA_BACTERIA       0.70      0.95      0.81       442\n",
            "PNEUMONIA_BACTERIA       0.70      0.95      0.81       442\n",
            "PNEUMONIA_BACTERIA       0.70      0.95      0.81       442\n",
            "PNEUMONIA_BACTERIA       0.70      0.95      0.81       442\n",
            "PNEUMONIA_BACTERIA       0.70      0.95      0.81       442\n",
            "PNEUMONIA_BACTERIA       0.70      0.95      0.81       442\n",
            "PNEUMONIA_BACTERIA       0.70      0.95      0.81       442\n",
            "PNEUMONIA_BACTERIA       0.70      0.95      0.81       442\n",
            "PNEUMONIA_BACTERIA       0.70      0.95      0.81       442\n",
            "PNEUMONIA_BACTERIA       0.70      0.95      0.81       442\n",
            "PNEUMONIA_BACTERIA       0.70      0.95      0.81       442\n",
            "PNEUMONIA_BACTERIA       0.70      0.95      0.81       442\n",
            "PNEUMONIA_BACTERIA       0.70      0.95      0.81       442\n",
            "PNEUMONIA_BACTERIA       0.70      0.95      0.81       442\n",
            "PNEUMONIA_BACTERIA       0.70      0.95      0.81       442\n",
            "PNEUMONIA_BACTERIA       0.70      0.95      0.81       442\n",
            "PNEUMONIA_BACTERIA       0.70      0.95      0.81       442\n",
            "PNEUMONIA_BACTERIA       0.70      0.95      0.81       442\n",
            "PNEUMONIA_BACTERIA       0.70      0.95      0.81       442\n",
            "PNEUMONIA_BACTERIA       0.70      0.95      0.81       442\n",
            "PNEUMONIA_BACTERIA       0.70      0.95      0.81       442\n",
            "PNEUMONIA_BACTERIA       0.70      0.95      0.81       442\n",
            "PNEUMONIA_BACTERIA       0.70      0.95      0.81       442\n",
            "PNEUMONIA_BACTERIA       0.70      0.95      0.81       442\n",
            "PNEUMONIA_BACTERIA       0.70      0.95      0.81       442\n",
            "PNEUMONIA_BACTERIA       0.70      0.95      0.81       442\n",
            "PNEUMONIA_BACTERIA       0.70      0.95      0.81       442\n",
            "PNEUMONIA_BACTERIA       0.70      0.95      0.81       442\n",
            "PNEUMONIA_BACTERIA       0.70      0.95      0.81       442\n",
            "PNEUMONIA_BACTERIA       0.70      0.95      0.81       442\n",
            "PNEUMONIA_BACTERIA       0.70      0.95      0.81       442\n",
            "PNEUMONIA_BACTERIA       0.70      0.95      0.81       442\n",
            "PNEUMONIA_BACTERIA       0.70      0.95      0.81       442\n",
            "PNEUMONIA_BACTERIA       0.70      0.95      0.81       442\n",
            "PNEUMONIA_BACTERIA       0.70      0.95      0.81       442\n",
            "PNEUMONIA_BACTERIA       0.70      0.95      0.81       442\n",
            "PNEUMONIA_BACTERIA       0.70      0.95      0.81       442\n",
            "PNEUMONIA_BACTERIA       0.70      0.95      0.81       442\n",
            "PNEUMONIA_BACTERIA       0.70      0.95      0.81       442\n",
            "PNEUMONIA_BACTERIA       0.70      0.95      0.81       442\n",
            "PNEUMONIA_BACTERIA       0.70      0.95      0.81       442\n",
            "PNEUMONIA_BACTERIA       0.70      0.95      0.81       442\n",
            "PNEUMONIA_BACTERIA       0.70      0.95      0.81       442\n",
            "PNEUMONIA_BACTERIA       0.70      0.95      0.81       442\n",
            "PNEUMONIA_BACTERIA       0.70      0.95      0.81       442\n",
            "PNEUMONIA_BACTERIA       0.70      0.95      0.81       442\n",
            "PNEUMONIA_BACTERIA       0.70      0.95      0.81       442\n",
            "PNEUMONIA_BACTERIA       0.70      0.95      0.81       442\n",
            "PNEUMONIA_BACTERIA       0.70      0.95      0.81       442\n",
            "PNEUMONIA_BACTERIA       0.70      0.95      0.81       442\n",
            "PNEUMONIA_BACTERIA       0.70      0.95      0.81       442\n",
            "PNEUMONIA_BACTERIA       0.70      0.95      0.81       442\n",
            "PNEUMONIA_BACTERIA       0.70      0.95      0.81       442\n",
            "PNEUMONIA_BACTERIA       0.70      0.95      0.81       442\n",
            "PNEUMONIA_BACTERIA       0.70      0.95      0.81       442\n",
            "PNEUMONIA_BACTERIA       0.70      0.95      0.81       442\n",
            "PNEUMONIA_BACTERIA       0.70      0.95      0.81       442\n",
            "PNEUMONIA_BACTERIA       0.70      0.95      0.81       442\n",
            "PNEUMONIA_BACTERIA       0.70      0.95      0.81       442\n",
            "PNEUMONIA_BACTERIA       0.70      0.95      0.81       442\n",
            "PNEUMONIA_BACTERIA       0.70      0.95      0.81       442\n",
            "PNEUMONIA_BACTERIA       0.70      0.95      0.81       442\n",
            "PNEUMONIA_BACTERIA       0.70      0.95      0.81       442\n",
            "PNEUMONIA_BACTERIA       0.70      0.95      0.81       442\n",
            "PNEUMONIA_BACTERIA       0.70      0.95      0.81       442\n",
            "PNEUMONIA_BACTERIA       0.70      0.95      0.81       442\n",
            "PNEUMONIA_BACTERIA       0.70      0.95      0.81       442\n",
            "PNEUMONIA_BACTERIA       0.70      0.95      0.81       442\n",
            "PNEUMONIA_BACTERIA       0.70      0.95      0.81       442\n",
            "PNEUMONIA_BACTERIA       0.70      0.95      0.81       442\n",
            "PNEUMONIA_BACTERIA       0.70      0.95      0.81       442\n",
            "PNEUMONIA_BACTERIA       0.70      0.95      0.81       442\n",
            "PNEUMONIA_BACTERIA       0.70      0.95      0.81       442\n",
            "PNEUMONIA_BACTERIA       0.70      0.95      0.81       442\n",
            "PNEUMONIA_BACTERIA       0.70      0.95      0.81       442\n",
            "PNEUMONIA_BACTERIA       0.70      0.95      0.81       442\n",
            "PNEUMONIA_BACTERIA       0.70      0.95      0.81       442\n",
            "PNEUMONIA_BACTERIA       0.70      0.95      0.81       442\n",
            "PNEUMONIA_BACTERIA       0.70      0.95      0.81       442\n",
            "PNEUMONIA_BACTERIA       0.70      0.95      0.81       442\n",
            "PNEUMONIA_BACTERIA       0.70      0.95      0.81       442\n",
            "PNEUMONIA_BACTERIA       0.70      0.95      0.81       442\n",
            "PNEUMONIA_BACTERIA       0.70      0.95      0.81       442\n",
            "PNEUMONIA_BACTERIA       0.70      0.95      0.81       442\n",
            "PNEUMONIA_BACTERIA       0.70      0.95      0.81       442\n",
            "PNEUMONIA_BACTERIA       0.70      0.95      0.81       442\n",
            "PNEUMONIA_BACTERIA       0.70      0.95      0.81       442\n",
            "PNEUMONIA_BACTERIA       0.70      0.95      0.81       442\n",
            "PNEUMONIA_BACTERIA       0.70      0.95      0.81       442\n",
            "PNEUMONIA_BACTERIA       0.70      0.95      0.81       442\n",
            "PNEUMONIA_BACTERIA       0.70      0.95      0.81       442\n",
            "PNEUMONIA_BACTERIA       0.70      0.95      0.81       442\n",
            "PNEUMONIA_BACTERIA       0.70      0.95      0.81       442\n",
            "PNEUMONIA_BACTERIA       0.70      0.95      0.81       442\n",
            "PNEUMONIA_BACTERIA       0.70      0.95      0.81       442\n",
            "PNEUMONIA_BACTERIA       0.70      0.95      0.81       442\n",
            "PNEUMONIA_BACTERIA       0.70      0.95      0.81       442\n",
            "PNEUMONIA_BACTERIA       0.70      0.95      0.81       442\n",
            "PNEUMONIA_BACTERIA       0.70      0.95      0.81       442\n",
            "PNEUMONIA_BACTERIA       0.70      0.95      0.81       442\n",
            "PNEUMONIA_BACTERIA       0.70      0.95      0.81       442\n",
            "PNEUMONIA_BACTERIA       0.70      0.95      0.81       442\n",
            "PNEUMONIA_BACTERIA       0.70      0.95      0.81       442\n",
            "PNEUMONIA_BACTERIA       0.70      0.95      0.81       442\n",
            "PNEUMONIA_BACTERIA       0.70      0.95      0.81       442\n",
            "PNEUMONIA_BACTERIA       0.70      0.95      0.81       442\n",
            "PNEUMONIA_BACTERIA       0.70      0.95      0.81       442\n",
            "PNEUMONIA_BACTERIA       0.70      0.95      0.81       442\n",
            "PNEUMONIA_BACTERIA       0.70      0.95      0.81       442\n",
            "PNEUMONIA_BACTERIA       0.70      0.95      0.81       442\n",
            "PNEUMONIA_BACTERIA       0.70      0.95      0.81       442\n",
            "PNEUMONIA_BACTERIA       0.70      0.95      0.81       442\n",
            "PNEUMONIA_BACTERIA       0.70      0.95      0.81       442\n",
            "PNEUMONIA_BACTERIA       0.70      0.95      0.81       442\n",
            "PNEUMONIA_BACTERIA       0.70      0.95      0.81       442\n",
            "PNEUMONIA_BACTERIA       0.70      0.95      0.81       442\n",
            "PNEUMONIA_BACTERIA       0.70      0.95      0.81       442\n",
            "PNEUMONIA_BACTERIA       0.70      0.95      0.81       442\n",
            "PNEUMONIA_BACTERIA       0.70      0.95      0.81       442\n",
            "PNEUMONIA_BACTERIA       0.70      0.95      0.81       442\n",
            "PNEUMONIA_BACTERIA       0.70      0.95      0.81       442\n",
            "PNEUMONIA_BACTERIA       0.70      0.95      0.81       442\n",
            "PNEUMONIA_BACTERIA       0.70      0.95      0.81       442\n",
            "PNEUMONIA_BACTERIA       0.70      0.95      0.81       442\n",
            "PNEUMONIA_BACTERIA       0.70      0.95      0.81       442\n",
            "PNEUMONIA_BACTERIA       0.70      0.95      0.81       442\n",
            "PNEUMONIA_BACTERIA       0.70      0.95      0.81       442\n",
            "PNEUMONIA_BACTERIA       0.70      0.95      0.81       442\n",
            "PNEUMONIA_BACTERIA       0.70      0.95      0.81       442\n",
            "PNEUMONIA_BACTERIA       0.70      0.95      0.81       442\n",
            "PNEUMONIA_BACTERIA       0.70      0.95      0.81       442\n",
            "PNEUMONIA_BACTERIA       0.70      0.95      0.81       442\n",
            "PNEUMONIA_BACTERIA       0.70      0.95      0.81       442\n",
            "PNEUMONIA_BACTERIA       0.70      0.95      0.81       442\n",
            "PNEUMONIA_BACTERIA       0.70      0.95      0.81       442\n",
            "PNEUMONIA_BACTERIA       0.70      0.95      0.81       442\n",
            "PNEUMONIA_BACTERIA       0.70      0.95      0.81       442\n",
            "PNEUMONIA_BACTERIA       0.70      0.95      0.81       442\n",
            "PNEUMONIA_BACTERIA       0.70      0.95      0.81       442\n",
            "PNEUMONIA_BACTERIA       0.70      0.95      0.81       442\n",
            "PNEUMONIA_BACTERIA       0.70      0.95      0.81       442\n",
            "PNEUMONIA_BACTERIA       0.70      0.95      0.81       442\n",
            "PNEUMONIA_BACTERIA       0.70      0.95      0.81       442\n",
            "PNEUMONIA_BACTERIA       0.70      0.95      0.81       442\n",
            "PNEUMONIA_BACTERIA       0.70      0.95      0.81       442\n",
            "PNEUMONIA_BACTERIA       0.70      0.95      0.81       442\n",
            "PNEUMONIA_BACTERIA       0.70      0.95      0.81       442\n",
            "PNEUMONIA_BACTERIA       0.70      0.95      0.81       442\n",
            "PNEUMONIA_BACTERIA       0.70      0.95      0.81       442\n",
            "PNEUMONIA_BACTERIA       0.70      0.95      0.81       442\n",
            "PNEUMONIA_BACTERIA       0.70      0.95      0.81       442\n",
            "PNEUMONIA_BACTERIA       0.70      0.95      0.81       442\n",
            "PNEUMONIA_BACTERIA       0.70      0.95      0.81       442\n",
            "PNEUMONIA_BACTERIA       0.70      0.95      0.81       442\n",
            "PNEUMONIA_BACTERIA       0.70      0.95      0.81       442\n",
            "PNEUMONIA_BACTERIA       0.70      0.95      0.81       442\n",
            "PNEUMONIA_BACTERIA       0.70      0.95      0.81       442\n",
            "PNEUMONIA_BACTERIA       0.70      0.95      0.81       442\n",
            "PNEUMONIA_BACTERIA       0.70      0.95      0.81       442\n",
            "PNEUMONIA_BACTERIA       0.70      0.95      0.81       442\n",
            "PNEUMONIA_BACTERIA       0.70      0.95      0.81       442\n",
            "PNEUMONIA_BACTERIA       0.70      0.95      0.81       442\n",
            "PNEUMONIA_BACTERIA       0.70      0.95      0.81       442\n",
            "PNEUMONIA_BACTERIA       0.70      0.95      0.81       442\n",
            "PNEUMONIA_BACTERIA       0.70      0.95      0.81       442\n",
            "PNEUMONIA_BACTERIA       0.70      0.95      0.81       442\n",
            "PNEUMONIA_BACTERIA       0.70      0.95      0.81       442\n",
            "PNEUMONIA_BACTERIA       0.70      0.95      0.81       442\n",
            "PNEUMONIA_BACTERIA       0.70      0.95      0.81       442\n",
            "PNEUMONIA_BACTERIA       0.70      0.95      0.81       442\n",
            "PNEUMONIA_BACTERIA       0.70      0.95      0.81       442\n",
            "PNEUMONIA_BACTERIA       0.70      0.95      0.81       442\n",
            "PNEUMONIA_BACTERIA       0.70      0.95      0.81       442\n",
            "PNEUMONIA_BACTERIA       0.70      0.95      0.81       442\n",
            "PNEUMONIA_BACTERIA       0.70      0.95      0.81       442\n",
            "PNEUMONIA_BACTERIA       0.70      0.95      0.81       442\n",
            "PNEUMONIA_BACTERIA       0.70      0.95      0.81       442\n",
            "PNEUMONIA_BACTERIA       0.70      0.95      0.81       442\n",
            "PNEUMONIA_BACTERIA       0.70      0.95      0.81       442\n",
            "PNEUMONIA_BACTERIA       0.70      0.95      0.81       442\n",
            "PNEUMONIA_BACTERIA       0.70      0.95      0.81       442\n",
            "PNEUMONIA_BACTERIA       0.70      0.95      0.81       442\n",
            "PNEUMONIA_BACTERIA       0.70      0.95      0.81       442\n",
            "PNEUMONIA_BACTERIA       0.70      0.95      0.81       442\n",
            "PNEUMONIA_BACTERIA       0.70      0.95      0.81       442\n",
            "PNEUMONIA_BACTERIA       0.70      0.95      0.81       442\n",
            "PNEUMONIA_BACTERIA       0.70      0.95      0.81       442\n",
            "PNEUMONIA_BACTERIA       0.70      0.95      0.81       442\n",
            "PNEUMONIA_BACTERIA       0.70      0.95      0.81       442\n",
            "PNEUMONIA_BACTERIA       0.70      0.95      0.81       442\n",
            "PNEUMONIA_BACTERIA       0.70      0.95      0.81       442\n",
            "PNEUMONIA_BACTERIA       0.70      0.95      0.81       442\n",
            "PNEUMONIA_BACTERIA       0.70      0.95      0.81       442\n",
            "PNEUMONIA_BACTERIA       0.70      0.95      0.81       442\n",
            "PNEUMONIA_BACTERIA       0.70      0.95      0.81       442\n",
            "PNEUMONIA_BACTERIA       0.70      0.95      0.81       442\n",
            "PNEUMONIA_BACTERIA       0.70      0.95      0.81       442\n",
            "PNEUMONIA_BACTERIA       0.70      0.95      0.81       442\n",
            "PNEUMONIA_BACTERIA       0.70      0.95      0.81       442\n",
            "PNEUMONIA_BACTERIA       0.70      0.95      0.81       442\n",
            "PNEUMONIA_BACTERIA       0.70      0.95      0.81       442\n",
            "PNEUMONIA_BACTERIA       0.70      0.95      0.81       442\n",
            "PNEUMONIA_BACTERIA       0.70      0.95      0.81       442\n",
            "PNEUMONIA_BACTERIA       0.70      0.95      0.81       442\n",
            "   PNEUMONIA_VIRAL       0.79      0.49      0.61       356\n",
            "   PNEUMONIA_VIRAL       0.79      0.49      0.61       356\n",
            "   PNEUMONIA_VIRAL       0.79      0.49      0.61       356\n",
            "   PNEUMONIA_VIRAL       0.79      0.49      0.61       356\n",
            "   PNEUMONIA_VIRAL       0.79      0.49      0.61       356\n",
            "   PNEUMONIA_VIRAL       0.79      0.49      0.61       356\n",
            "   PNEUMONIA_VIRAL       0.79      0.49      0.61       356\n",
            "   PNEUMONIA_VIRAL       0.79      0.49      0.61       356\n",
            "   PNEUMONIA_VIRAL       0.79      0.49      0.61       356\n",
            "   PNEUMONIA_VIRAL       0.79      0.49      0.61       356\n",
            "   PNEUMONIA_VIRAL       0.79      0.49      0.61       356\n",
            "   PNEUMONIA_VIRAL       0.79      0.49      0.61       356\n",
            "   PNEUMONIA_VIRAL       0.79      0.49      0.61       356\n",
            "   PNEUMONIA_VIRAL       0.79      0.49      0.61       356\n",
            "   PNEUMONIA_VIRAL       0.79      0.49      0.61       356\n",
            "   PNEUMONIA_VIRAL       0.79      0.49      0.61       356\n",
            "   PNEUMONIA_VIRAL       0.79      0.49      0.61       356\n",
            "   PNEUMONIA_VIRAL       0.79      0.49      0.61       356\n",
            "   PNEUMONIA_VIRAL       0.79      0.49      0.61       356\n",
            "   PNEUMONIA_VIRAL       0.79      0.49      0.61       356\n",
            "   PNEUMONIA_VIRAL       0.79      0.49      0.61       356\n",
            "   PNEUMONIA_VIRAL       0.79      0.49      0.61       356\n",
            "   PNEUMONIA_VIRAL       0.79      0.49      0.61       356\n",
            "   PNEUMONIA_VIRAL       0.79      0.49      0.61       356\n",
            "   PNEUMONIA_VIRAL       0.79      0.49      0.61       356\n",
            "   PNEUMONIA_VIRAL       0.79      0.49      0.61       356\n",
            "   PNEUMONIA_VIRAL       0.79      0.49      0.61       356\n",
            "   PNEUMONIA_VIRAL       0.79      0.49      0.61       356\n",
            "   PNEUMONIA_VIRAL       0.79      0.49      0.61       356\n",
            "   PNEUMONIA_VIRAL       0.79      0.49      0.61       356\n",
            "   PNEUMONIA_VIRAL       0.79      0.49      0.61       356\n",
            "   PNEUMONIA_VIRAL       0.79      0.49      0.61       356\n",
            "   PNEUMONIA_VIRAL       0.79      0.49      0.61       356\n",
            "   PNEUMONIA_VIRAL       0.79      0.49      0.61       356\n",
            "   PNEUMONIA_VIRAL       0.79      0.49      0.61       356\n",
            "   PNEUMONIA_VIRAL       0.79      0.49      0.61       356\n",
            "   PNEUMONIA_VIRAL       0.79      0.49      0.61       356\n",
            "   PNEUMONIA_VIRAL       0.79      0.49      0.61       356\n",
            "   PNEUMONIA_VIRAL       0.79      0.49      0.61       356\n",
            "   PNEUMONIA_VIRAL       0.79      0.49      0.61       356\n",
            "   PNEUMONIA_VIRAL       0.79      0.49      0.61       356\n",
            "   PNEUMONIA_VIRAL       0.79      0.49      0.61       356\n",
            "   PNEUMONIA_VIRAL       0.79      0.49      0.61       356\n",
            "   PNEUMONIA_VIRAL       0.79      0.49      0.61       356\n",
            "   PNEUMONIA_VIRAL       0.79      0.49      0.61       356\n",
            "   PNEUMONIA_VIRAL       0.79      0.49      0.61       356\n",
            "   PNEUMONIA_VIRAL       0.79      0.49      0.61       356\n",
            "   PNEUMONIA_VIRAL       0.79      0.49      0.61       356\n",
            "   PNEUMONIA_VIRAL       0.79      0.49      0.61       356\n",
            "   PNEUMONIA_VIRAL       0.79      0.49      0.61       356\n",
            "   PNEUMONIA_VIRAL       0.79      0.49      0.61       356\n",
            "   PNEUMONIA_VIRAL       0.79      0.49      0.61       356\n",
            "   PNEUMONIA_VIRAL       0.79      0.49      0.61       356\n",
            "   PNEUMONIA_VIRAL       0.79      0.49      0.61       356\n",
            "   PNEUMONIA_VIRAL       0.79      0.49      0.61       356\n",
            "   PNEUMONIA_VIRAL       0.79      0.49      0.61       356\n",
            "   PNEUMONIA_VIRAL       0.79      0.49      0.61       356\n",
            "   PNEUMONIA_VIRAL       0.79      0.49      0.61       356\n",
            "   PNEUMONIA_VIRAL       0.79      0.49      0.61       356\n",
            "   PNEUMONIA_VIRAL       0.79      0.49      0.61       356\n",
            "   PNEUMONIA_VIRAL       0.79      0.49      0.61       356\n",
            "   PNEUMONIA_VIRAL       0.79      0.49      0.61       356\n",
            "   PNEUMONIA_VIRAL       0.79      0.49      0.61       356\n",
            "   PNEUMONIA_VIRAL       0.79      0.49      0.61       356\n",
            "   PNEUMONIA_VIRAL       0.79      0.49      0.61       356\n",
            "   PNEUMONIA_VIRAL       0.79      0.49      0.61       356\n",
            "   PNEUMONIA_VIRAL       0.79      0.49      0.61       356\n",
            "   PNEUMONIA_VIRAL       0.79      0.49      0.61       356\n",
            "   PNEUMONIA_VIRAL       0.79      0.49      0.61       356\n",
            "   PNEUMONIA_VIRAL       0.79      0.49      0.61       356\n",
            "   PNEUMONIA_VIRAL       0.79      0.49      0.61       356\n",
            "   PNEUMONIA_VIRAL       0.79      0.49      0.61       356\n",
            "   PNEUMONIA_VIRAL       0.79      0.49      0.61       356\n",
            "   PNEUMONIA_VIRAL       0.79      0.49      0.61       356\n",
            "   PNEUMONIA_VIRAL       0.79      0.49      0.61       356\n",
            "   PNEUMONIA_VIRAL       0.79      0.49      0.61       356\n",
            "   PNEUMONIA_VIRAL       0.79      0.49      0.61       356\n",
            "   PNEUMONIA_VIRAL       0.79      0.49      0.61       356\n",
            "   PNEUMONIA_VIRAL       0.79      0.49      0.61       356\n",
            "   PNEUMONIA_VIRAL       0.79      0.49      0.61       356\n",
            "   PNEUMONIA_VIRAL       0.79      0.49      0.61       356\n",
            "   PNEUMONIA_VIRAL       0.79      0.49      0.61       356\n",
            "   PNEUMONIA_VIRAL       0.79      0.49      0.61       356\n",
            "   PNEUMONIA_VIRAL       0.79      0.49      0.61       356\n",
            "   PNEUMONIA_VIRAL       0.79      0.49      0.61       356\n",
            "   PNEUMONIA_VIRAL       0.79      0.49      0.61       356\n",
            "   PNEUMONIA_VIRAL       0.79      0.49      0.61       356\n",
            "   PNEUMONIA_VIRAL       0.79      0.49      0.61       356\n",
            "   PNEUMONIA_VIRAL       0.79      0.49      0.61       356\n",
            "   PNEUMONIA_VIRAL       0.79      0.49      0.61       356\n",
            "   PNEUMONIA_VIRAL       0.79      0.49      0.61       356\n",
            "   PNEUMONIA_VIRAL       0.79      0.49      0.61       356\n",
            "   PNEUMONIA_VIRAL       0.79      0.49      0.61       356\n",
            "   PNEUMONIA_VIRAL       0.79      0.49      0.61       356\n",
            "   PNEUMONIA_VIRAL       0.79      0.49      0.61       356\n",
            "   PNEUMONIA_VIRAL       0.79      0.49      0.61       356\n",
            "   PNEUMONIA_VIRAL       0.79      0.49      0.61       356\n",
            "   PNEUMONIA_VIRAL       0.79      0.49      0.61       356\n",
            "   PNEUMONIA_VIRAL       0.79      0.49      0.61       356\n",
            "   PNEUMONIA_VIRAL       0.79      0.49      0.61       356\n",
            "   PNEUMONIA_VIRAL       0.79      0.49      0.61       356\n",
            "   PNEUMONIA_VIRAL       0.79      0.49      0.61       356\n",
            "   PNEUMONIA_VIRAL       0.79      0.49      0.61       356\n",
            "   PNEUMONIA_VIRAL       0.79      0.49      0.61       356\n",
            "   PNEUMONIA_VIRAL       0.79      0.49      0.61       356\n",
            "   PNEUMONIA_VIRAL       0.79      0.49      0.61       356\n",
            "   PNEUMONIA_VIRAL       0.79      0.49      0.61       356\n",
            "   PNEUMONIA_VIRAL       0.79      0.49      0.61       356\n",
            "   PNEUMONIA_VIRAL       0.79      0.49      0.61       356\n",
            "   PNEUMONIA_VIRAL       0.79      0.49      0.61       356\n",
            "   PNEUMONIA_VIRAL       0.79      0.49      0.61       356\n",
            "   PNEUMONIA_VIRAL       0.79      0.49      0.61       356\n",
            "   PNEUMONIA_VIRAL       0.79      0.49      0.61       356\n",
            "   PNEUMONIA_VIRAL       0.79      0.49      0.61       356\n",
            "   PNEUMONIA_VIRAL       0.79      0.49      0.61       356\n",
            "   PNEUMONIA_VIRAL       0.79      0.49      0.61       356\n",
            "   PNEUMONIA_VIRAL       0.79      0.49      0.61       356\n",
            "   PNEUMONIA_VIRAL       0.79      0.49      0.61       356\n",
            "   PNEUMONIA_VIRAL       0.79      0.49      0.61       356\n",
            "   PNEUMONIA_VIRAL       0.79      0.49      0.61       356\n",
            "   PNEUMONIA_VIRAL       0.79      0.49      0.61       356\n",
            "   PNEUMONIA_VIRAL       0.79      0.49      0.61       356\n",
            "   PNEUMONIA_VIRAL       0.79      0.49      0.61       356\n",
            "   PNEUMONIA_VIRAL       0.79      0.49      0.61       356\n",
            "   PNEUMONIA_VIRAL       0.79      0.49      0.61       356\n",
            "   PNEUMONIA_VIRAL       0.79      0.49      0.61       356\n",
            "   PNEUMONIA_VIRAL       0.79      0.49      0.61       356\n",
            "   PNEUMONIA_VIRAL       0.79      0.49      0.61       356\n",
            "   PNEUMONIA_VIRAL       0.79      0.49      0.61       356\n",
            "   PNEUMONIA_VIRAL       0.79      0.49      0.61       356\n",
            "   PNEUMONIA_VIRAL       0.79      0.49      0.61       356\n",
            "   PNEUMONIA_VIRAL       0.79      0.49      0.61       356\n",
            "   PNEUMONIA_VIRAL       0.79      0.49      0.61       356\n",
            "   PNEUMONIA_VIRAL       0.79      0.49      0.61       356\n",
            "   PNEUMONIA_VIRAL       0.79      0.49      0.61       356\n",
            "   PNEUMONIA_VIRAL       0.79      0.49      0.61       356\n",
            "   PNEUMONIA_VIRAL       0.79      0.49      0.61       356\n",
            "   PNEUMONIA_VIRAL       0.79      0.49      0.61       356\n",
            "   PNEUMONIA_VIRAL       0.79      0.49      0.61       356\n",
            "   PNEUMONIA_VIRAL       0.79      0.49      0.61       356\n",
            "   PNEUMONIA_VIRAL       0.79      0.49      0.61       356\n",
            "   PNEUMONIA_VIRAL       0.79      0.49      0.61       356\n",
            "   PNEUMONIA_VIRAL       0.79      0.49      0.61       356\n",
            "   PNEUMONIA_VIRAL       0.79      0.49      0.61       356\n",
            "   PNEUMONIA_VIRAL       0.79      0.49      0.61       356\n",
            "   PNEUMONIA_VIRAL       0.79      0.49      0.61       356\n",
            "   PNEUMONIA_VIRAL       0.79      0.49      0.61       356\n",
            "   PNEUMONIA_VIRAL       0.79      0.49      0.61       356\n",
            "   PNEUMONIA_VIRAL       0.79      0.49      0.61       356\n",
            "   PNEUMONIA_VIRAL       0.79      0.49      0.61       356\n",
            "   PNEUMONIA_VIRAL       0.79      0.49      0.61       356\n",
            "   PNEUMONIA_VIRAL       0.79      0.49      0.61       356\n",
            "   PNEUMONIA_VIRAL       0.79      0.49      0.61       356\n",
            "   PNEUMONIA_VIRAL       0.79      0.49      0.61       356\n",
            "   PNEUMONIA_VIRAL       0.79      0.49      0.61       356\n",
            "   PNEUMONIA_VIRAL       0.79      0.49      0.61       356\n",
            "   PNEUMONIA_VIRAL       0.79      0.49      0.61       356\n",
            "   PNEUMONIA_VIRAL       0.79      0.49      0.61       356\n",
            "   PNEUMONIA_VIRAL       0.79      0.49      0.61       356\n",
            "   PNEUMONIA_VIRAL       0.79      0.49      0.61       356\n",
            "   PNEUMONIA_VIRAL       0.79      0.49      0.61       356\n",
            "   PNEUMONIA_VIRAL       0.79      0.49      0.61       356\n",
            "   PNEUMONIA_VIRAL       0.79      0.49      0.61       356\n",
            "   PNEUMONIA_VIRAL       0.79      0.49      0.61       356\n",
            "   PNEUMONIA_VIRAL       0.79      0.49      0.61       356\n",
            "   PNEUMONIA_VIRAL       0.79      0.49      0.61       356\n",
            "   PNEUMONIA_VIRAL       0.79      0.49      0.61       356\n",
            "   PNEUMONIA_VIRAL       0.79      0.49      0.61       356\n",
            "   PNEUMONIA_VIRAL       0.79      0.49      0.61       356\n",
            "   PNEUMONIA_VIRAL       0.79      0.49      0.61       356\n",
            "   PNEUMONIA_VIRAL       0.79      0.49      0.61       356\n",
            "   PNEUMONIA_VIRAL       0.79      0.49      0.61       356\n",
            "   PNEUMONIA_VIRAL       0.79      0.49      0.61       356\n",
            "   PNEUMONIA_VIRAL       0.79      0.49      0.61       356\n",
            "   PNEUMONIA_VIRAL       0.79      0.49      0.61       356\n",
            "   PNEUMONIA_VIRAL       0.79      0.49      0.61       356\n",
            "   PNEUMONIA_VIRAL       0.79      0.49      0.61       356\n",
            "   PNEUMONIA_VIRAL       0.79      0.49      0.61       356\n",
            "   PNEUMONIA_VIRAL       0.79      0.49      0.61       356\n",
            "   PNEUMONIA_VIRAL       0.79      0.49      0.61       356\n",
            "   PNEUMONIA_VIRAL       0.79      0.49      0.61       356\n",
            "   PNEUMONIA_VIRAL       0.79      0.49      0.61       356\n",
            "   PNEUMONIA_VIRAL       0.79      0.49      0.61       356\n",
            "   PNEUMONIA_VIRAL       0.79      0.49      0.61       356\n",
            "   PNEUMONIA_VIRAL       0.79      0.49      0.61       356\n",
            "   PNEUMONIA_VIRAL       0.79      0.49      0.61       356\n",
            "   PNEUMONIA_VIRAL       0.79      0.49      0.61       356\n",
            "   PNEUMONIA_VIRAL       0.79      0.49      0.61       356\n",
            "   PNEUMONIA_VIRAL       0.79      0.49      0.61       356\n",
            "   PNEUMONIA_VIRAL       0.79      0.49      0.61       356\n",
            "   PNEUMONIA_VIRAL       0.79      0.49      0.61       356\n",
            "   PNEUMONIA_VIRAL       0.79      0.49      0.61       356\n",
            "   PNEUMONIA_VIRAL       0.79      0.49      0.61       356\n",
            "   PNEUMONIA_VIRAL       0.79      0.49      0.61       356\n",
            "   PNEUMONIA_VIRAL       0.79      0.49      0.61       356\n",
            "   PNEUMONIA_VIRAL       0.79      0.49      0.61       356\n",
            "   PNEUMONIA_VIRAL       0.79      0.49      0.61       356\n",
            "   PNEUMONIA_VIRAL       0.79      0.49      0.61       356\n",
            "   PNEUMONIA_VIRAL       0.79      0.49      0.61       356\n",
            "   PNEUMONIA_VIRAL       0.79      0.49      0.61       356\n",
            "   PNEUMONIA_VIRAL       0.79      0.49      0.61       356\n",
            "   PNEUMONIA_VIRAL       0.79      0.49      0.61       356\n",
            "   PNEUMONIA_VIRAL       0.79      0.49      0.61       356\n",
            "   PNEUMONIA_VIRAL       0.79      0.49      0.61       356\n",
            "   PNEUMONIA_VIRAL       0.79      0.49      0.61       356\n",
            "   PNEUMONIA_VIRAL       0.79      0.49      0.61       356\n",
            "   PNEUMONIA_VIRAL       0.79      0.49      0.61       356\n",
            "   PNEUMONIA_VIRAL       0.79      0.49      0.61       356\n",
            "   PNEUMONIA_VIRAL       0.79      0.49      0.61       356\n",
            "   PNEUMONIA_VIRAL       0.79      0.49      0.61       356\n",
            "   PNEUMONIA_VIRAL       0.79      0.49      0.61       356\n",
            "   PNEUMONIA_VIRAL       0.79      0.49      0.61       356\n",
            "   PNEUMONIA_VIRAL       0.79      0.49      0.61       356\n",
            "   PNEUMONIA_VIRAL       0.79      0.49      0.61       356\n",
            "   PNEUMONIA_VIRAL       0.79      0.49      0.61       356\n",
            "   PNEUMONIA_VIRAL       0.79      0.49      0.61       356\n",
            "   PNEUMONIA_VIRAL       0.79      0.49      0.61       356\n",
            "   PNEUMONIA_VIRAL       0.79      0.49      0.61       356\n",
            "   PNEUMONIA_VIRAL       0.79      0.49      0.61       356\n",
            "   PNEUMONIA_VIRAL       0.79      0.49      0.61       356\n",
            "   PNEUMONIA_VIRAL       0.79      0.49      0.61       356\n",
            "   PNEUMONIA_VIRAL       0.79      0.49      0.61       356\n",
            "   PNEUMONIA_VIRAL       0.79      0.49      0.61       356\n",
            "   PNEUMONIA_VIRAL       0.79      0.49      0.61       356\n",
            "   PNEUMONIA_VIRAL       0.79      0.49      0.61       356\n",
            "   PNEUMONIA_VIRAL       0.79      0.49      0.61       356\n",
            "   PNEUMONIA_VIRAL       0.79      0.49      0.61       356\n",
            "   PNEUMONIA_VIRAL       0.79      0.49      0.61       356\n",
            "   PNEUMONIA_VIRAL       0.79      0.49      0.61       356\n",
            "   PNEUMONIA_VIRAL       0.79      0.49      0.61       356\n",
            "   PNEUMONIA_VIRAL       0.79      0.49      0.61       356\n",
            "   PNEUMONIA_VIRAL       0.79      0.49      0.61       356\n",
            "   PNEUMONIA_VIRAL       0.79      0.49      0.61       356\n",
            "   PNEUMONIA_VIRAL       0.79      0.49      0.61       356\n",
            "   PNEUMONIA_VIRAL       0.79      0.49      0.61       356\n",
            "   PNEUMONIA_VIRAL       0.79      0.49      0.61       356\n",
            "   PNEUMONIA_VIRAL       0.79      0.49      0.61       356\n",
            "   PNEUMONIA_VIRAL       0.79      0.49      0.61       356\n",
            "   PNEUMONIA_VIRAL       0.79      0.49      0.61       356\n",
            "   PNEUMONIA_VIRAL       0.79      0.49      0.61       356\n",
            "   PNEUMONIA_VIRAL       0.79      0.49      0.61       356\n",
            "   PNEUMONIA_VIRAL       0.79      0.49      0.61       356\n",
            "   PNEUMONIA_VIRAL       0.79      0.49      0.61       356\n",
            "   PNEUMONIA_VIRAL       0.79      0.49      0.61       356\n",
            "   PNEUMONIA_VIRAL       0.79      0.49      0.61       356\n",
            "   PNEUMONIA_VIRAL       0.79      0.49      0.61       356\n",
            "   PNEUMONIA_VIRAL       0.79      0.49      0.61       356\n",
            "   PNEUMONIA_VIRAL       0.79      0.49      0.61       356\n",
            "   PNEUMONIA_VIRAL       0.79      0.49      0.61       356\n",
            "   PNEUMONIA_VIRAL       0.79      0.49      0.61       356\n",
            "   PNEUMONIA_VIRAL       0.79      0.49      0.61       356\n",
            "   PNEUMONIA_VIRAL       0.79      0.49      0.61       356\n",
            "   PNEUMONIA_VIRAL       0.79      0.49      0.61       356\n",
            "   PNEUMONIA_VIRAL       0.79      0.49      0.61       356\n",
            "   PNEUMONIA_VIRAL       0.79      0.49      0.61       356\n",
            "   PNEUMONIA_VIRAL       0.79      0.49      0.61       356\n",
            "   PNEUMONIA_VIRAL       0.79      0.49      0.61       356\n",
            "   PNEUMONIA_VIRAL       0.79      0.49      0.61       356\n",
            "   PNEUMONIA_VIRAL       0.79      0.49      0.61       356\n",
            "   PNEUMONIA_VIRAL       0.79      0.49      0.61       356\n",
            "   PNEUMONIA_VIRAL       0.79      0.49      0.61       356\n",
            "   PNEUMONIA_VIRAL       0.79      0.49      0.61       356\n",
            "   PNEUMONIA_VIRAL       0.79      0.49      0.61       356\n",
            "   PNEUMONIA_VIRAL       0.79      0.49      0.61       356\n",
            "   PNEUMONIA_VIRAL       0.79      0.49      0.61       356\n",
            "   PNEUMONIA_VIRAL       0.79      0.49      0.61       356\n",
            "   PNEUMONIA_VIRAL       0.79      0.49      0.61       356\n",
            "   PNEUMONIA_VIRAL       0.79      0.49      0.61       356\n",
            "   PNEUMONIA_VIRAL       0.79      0.49      0.61       356\n",
            "   PNEUMONIA_VIRAL       0.79      0.49      0.61       356\n",
            "   PNEUMONIA_VIRAL       0.79      0.49      0.61       356\n",
            "   PNEUMONIA_VIRAL       0.79      0.49      0.61       356\n",
            "   PNEUMONIA_VIRAL       0.79      0.49      0.61       356\n",
            "   PNEUMONIA_VIRAL       0.79      0.49      0.61       356\n",
            "   PNEUMONIA_VIRAL       0.79      0.49      0.61       356\n",
            "   PNEUMONIA_VIRAL       0.79      0.49      0.61       356\n",
            "   PNEUMONIA_VIRAL       0.79      0.49      0.61       356\n",
            "   PNEUMONIA_VIRAL       0.79      0.49      0.61       356\n",
            "   PNEUMONIA_VIRAL       0.79      0.49      0.61       356\n",
            "   PNEUMONIA_VIRAL       0.79      0.49      0.61       356\n",
            "   PNEUMONIA_VIRAL       0.79      0.49      0.61       356\n",
            "   PNEUMONIA_VIRAL       0.79      0.49      0.61       356\n",
            "   PNEUMONIA_VIRAL       0.79      0.49      0.61       356\n",
            "   PNEUMONIA_VIRAL       0.79      0.49      0.61       356\n",
            "   PNEUMONIA_VIRAL       0.79      0.49      0.61       356\n",
            "   PNEUMONIA_VIRAL       0.79      0.49      0.61       356\n",
            "   PNEUMONIA_VIRAL       0.79      0.49      0.61       356\n",
            "   PNEUMONIA_VIRAL       0.79      0.49      0.61       356\n",
            "   PNEUMONIA_VIRAL       0.79      0.49      0.61       356\n",
            "   PNEUMONIA_VIRAL       0.79      0.49      0.61       356\n",
            "   PNEUMONIA_VIRAL       0.79      0.49      0.61       356\n",
            "   PNEUMONIA_VIRAL       0.79      0.49      0.61       356\n",
            "   PNEUMONIA_VIRAL       0.79      0.49      0.61       356\n",
            "   PNEUMONIA_VIRAL       0.79      0.49      0.61       356\n",
            "   PNEUMONIA_VIRAL       0.79      0.49      0.61       356\n",
            "   PNEUMONIA_VIRAL       0.79      0.49      0.61       356\n",
            "   PNEUMONIA_VIRAL       0.79      0.49      0.61       356\n",
            "   PNEUMONIA_VIRAL       0.79      0.49      0.61       356\n",
            "   PNEUMONIA_VIRAL       0.79      0.49      0.61       356\n",
            "   PNEUMONIA_VIRAL       0.79      0.49      0.61       356\n",
            "   PNEUMONIA_VIRAL       0.79      0.49      0.61       356\n",
            "   PNEUMONIA_VIRAL       0.79      0.49      0.61       356\n",
            "   PNEUMONIA_VIRAL       0.79      0.49      0.61       356\n",
            "   PNEUMONIA_VIRAL       0.79      0.49      0.61       356\n",
            "   PNEUMONIA_VIRAL       0.79      0.49      0.61       356\n",
            "   PNEUMONIA_VIRAL       0.79      0.49      0.61       356\n",
            "   PNEUMONIA_VIRAL       0.79      0.49      0.61       356\n",
            "   PNEUMONIA_VIRAL       0.79      0.49      0.61       356\n",
            "   PNEUMONIA_VIRAL       0.79      0.49      0.61       356\n",
            "   PNEUMONIA_VIRAL       0.79      0.49      0.61       356\n",
            "   PNEUMONIA_VIRAL       0.79      0.49      0.61       356\n",
            "   PNEUMONIA_VIRAL       0.79      0.49      0.61       356\n",
            "   PNEUMONIA_VIRAL       0.79      0.49      0.61       356\n",
            "   PNEUMONIA_VIRAL       0.79      0.49      0.61       356\n",
            "   PNEUMONIA_VIRAL       0.79      0.49      0.61       356\n",
            "   PNEUMONIA_VIRAL       0.79      0.49      0.61       356\n",
            "   PNEUMONIA_VIRAL       0.79      0.49      0.61       356\n",
            "   PNEUMONIA_VIRAL       0.79      0.49      0.61       356\n",
            "   PNEUMONIA_VIRAL       0.79      0.49      0.61       356\n",
            "   PNEUMONIA_VIRAL       0.79      0.49      0.61       356\n",
            "   PNEUMONIA_VIRAL       0.79      0.49      0.61       356\n",
            "   PNEUMONIA_VIRAL       0.79      0.49      0.61       356\n",
            "   PNEUMONIA_VIRAL       0.79      0.49      0.61       356\n",
            "   PNEUMONIA_VIRAL       0.79      0.49      0.61       356\n",
            "   PNEUMONIA_VIRAL       0.79      0.49      0.61       356\n",
            "   PNEUMONIA_VIRAL       0.79      0.49      0.61       356\n",
            "   PNEUMONIA_VIRAL       0.79      0.49      0.61       356\n",
            "   PNEUMONIA_VIRAL       0.79      0.49      0.61       356\n",
            "   PNEUMONIA_VIRAL       0.79      0.49      0.61       356\n",
            "   PNEUMONIA_VIRAL       0.79      0.49      0.61       356\n",
            "   PNEUMONIA_VIRAL       0.79      0.49      0.61       356\n",
            "   PNEUMONIA_VIRAL       0.79      0.49      0.61       356\n",
            "   PNEUMONIA_VIRAL       0.79      0.49      0.61       356\n",
            "   PNEUMONIA_VIRAL       0.79      0.49      0.61       356\n",
            "   PNEUMONIA_VIRAL       0.79      0.49      0.61       356\n",
            "   PNEUMONIA_VIRAL       0.79      0.49      0.61       356\n",
            "   PNEUMONIA_VIRAL       0.79      0.49      0.61       356\n",
            "   PNEUMONIA_VIRAL       0.79      0.49      0.61       356\n",
            "   PNEUMONIA_VIRAL       0.79      0.49      0.61       356\n",
            "   PNEUMONIA_VIRAL       0.79      0.49      0.61       356\n",
            "   PNEUMONIA_VIRAL       0.79      0.49      0.61       356\n",
            "   PNEUMONIA_VIRAL       0.79      0.49      0.61       356\n",
            "   PNEUMONIA_VIRAL       0.79      0.49      0.61       356\n",
            "   PNEUMONIA_VIRAL       0.79      0.49      0.61       356\n",
            "   PNEUMONIA_VIRAL       0.79      0.49      0.61       356\n",
            "   PNEUMONIA_VIRAL       0.79      0.49      0.61       356\n",
            "   PNEUMONIA_VIRAL       0.79      0.49      0.61       356\n",
            "   PNEUMONIA_VIRAL       0.79      0.49      0.61       356\n",
            "   PNEUMONIA_VIRAL       0.79      0.49      0.61       356\n",
            "   PNEUMONIA_VIRAL       0.79      0.49      0.61       356\n",
            "   PNEUMONIA_VIRAL       0.79      0.49      0.61       356\n",
            "   PNEUMONIA_VIRAL       0.79      0.49      0.61       356\n",
            "   PNEUMONIA_VIRAL       0.79      0.49      0.61       356\n",
            "   PNEUMONIA_VIRAL       0.79      0.49      0.61       356\n",
            "   PNEUMONIA_VIRAL       0.79      0.49      0.61       356\n",
            "   PNEUMONIA_VIRAL       0.79      0.49      0.61       356\n",
            "\n",
            "          accuracy                           0.77    435669\n",
            "         macro avg       0.78      0.77      0.76    435669\n",
            "      weighted avg       0.77      0.78      0.76    435669\n",
            "\n"
          ]
        }
      ]
    }
  ]
}